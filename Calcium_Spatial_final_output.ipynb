{
 "cells": [
  {
   "cell_type": "code",
   "execution_count": 2,
   "metadata": {},
   "outputs": [
    {
     "data": {
      "text/html": [
       "        <script type=\"text/javascript\">\n",
       "        window.PlotlyConfig = {MathJaxConfig: 'local'};\n",
       "        if (window.MathJax) {MathJax.Hub.Config({SVG: {font: \"STIX-Web\"}});}\n",
       "        if (typeof require !== 'undefined') {\n",
       "        require.undef(\"plotly\");\n",
       "        requirejs.config({\n",
       "            paths: {\n",
       "                'plotly': ['https://cdn.plot.ly/plotly-latest.min']\n",
       "            }\n",
       "        });\n",
       "        require(['plotly'], function(Plotly) {\n",
       "            window._Plotly = Plotly;\n",
       "        });\n",
       "        }\n",
       "        </script>\n",
       "        "
      ]
     },
     "metadata": {},
     "output_type": "display_data"
    },
    {
     "data": {
      "text/html": [
       "        <script type=\"text/javascript\">\n",
       "        window.PlotlyConfig = {MathJaxConfig: 'local'};\n",
       "        if (window.MathJax) {MathJax.Hub.Config({SVG: {font: \"STIX-Web\"}});}\n",
       "        if (typeof require !== 'undefined') {\n",
       "        require.undef(\"plotly\");\n",
       "        requirejs.config({\n",
       "            paths: {\n",
       "                'plotly': ['https://cdn.plot.ly/plotly-latest.min']\n",
       "            }\n",
       "        });\n",
       "        require(['plotly'], function(Plotly) {\n",
       "            window._Plotly = Plotly;\n",
       "        });\n",
       "        }\n",
       "        </script>\n",
       "        "
      ]
     },
     "metadata": {},
     "output_type": "display_data"
    }
   ],
   "source": [
    "import pandas as pd\n",
    "import scipy, pylab\n",
    "import numpy as np\n",
    "from matplotlib import pyplot as plt\n",
    "import random\n",
    "import numpy\n",
    "from numpy import *\n",
    "from plotly import __version__\n",
    "import cufflinks as cf\n",
    "from plotly.offline import download_plotlyjs, init_notebook_mode, plot, iplot\n",
    "init_notebook_mode(connected=True)\n",
    "cf.go_offline()"
   ]
  },
  {
   "cell_type": "code",
   "execution_count": null,
   "metadata": {},
   "outputs": [
    {
     "name": "stderr",
     "output_type": "stream",
     "text": [
      "--- Logging error ---\n",
      "Traceback (most recent call last):\n",
      "  File \"c:\\users\\shami\\appdata\\local\\programs\\python\\python38\\lib\\site-packages\\IPython\\core\\interactiveshell.py\", line 3331, in run_code\n",
      "    exec(code_obj, self.user_global_ns, self.user_ns)\n",
      "  File \"<ipython-input-3-adad3772db8e>\", line 1, in <module>\n",
      "    file1 = loadtxt('cac_AD2000sec_IPR20IP30.065_07_02_22final.dat')##final for AD20IP3R\n",
      "  File \"c:\\users\\shami\\appdata\\local\\programs\\python\\python38\\lib\\site-packages\\numpy\\lib\\npyio.py\", line 1139, in loadtxt\n",
      "    for x in read_data(_loadtxt_chunksize):\n",
      "  File \"c:\\users\\shami\\appdata\\local\\programs\\python\\python38\\lib\\site-packages\\numpy\\lib\\npyio.py\", line 1067, in read_data\n",
      "    items = [conv(val) for (conv, val) in zip(converters, vals)]\n",
      "  File \"c:\\users\\shami\\appdata\\local\\programs\\python\\python38\\lib\\site-packages\\numpy\\lib\\npyio.py\", line 1067, in <listcomp>\n",
      "    items = [conv(val) for (conv, val) in zip(converters, vals)]\n",
      "  File \"c:\\users\\shami\\appdata\\local\\programs\\python\\python38\\lib\\site-packages\\numpy\\lib\\npyio.py\", line 763, in floatconv\n",
      "    return float(x)\n",
      "--- Logging error ---\n",
      "Traceback (most recent call last):\n",
      "  File \"c:\\users\\shami\\appdata\\local\\programs\\python\\python38\\lib\\site-packages\\IPython\\core\\interactiveshell.py\", line 3331, in run_code\n",
      "    exec(code_obj, self.user_global_ns, self.user_ns)\n",
      "  File \"<ipython-input-3-adad3772db8e>\", line 1, in <module>\n",
      "    file1 = loadtxt('cac_AD2000sec_IPR20IP30.065_07_02_22final.dat')##final for AD20IP3R\n",
      "  File \"c:\\users\\shami\\appdata\\local\\programs\\python\\python38\\lib\\site-packages\\numpy\\lib\\npyio.py\", line 1139, in loadtxt\n",
      "    for x in read_data(_loadtxt_chunksize):\n",
      "  File \"c:\\users\\shami\\appdata\\local\\programs\\python\\python38\\lib\\site-packages\\numpy\\lib\\npyio.py\", line 1067, in read_data\n",
      "    items = [conv(val) for (conv, val) in zip(converters, vals)]\n",
      "  File \"c:\\users\\shami\\appdata\\local\\programs\\python\\python38\\lib\\site-packages\\numpy\\lib\\npyio.py\", line 1067, in <listcomp>\n",
      "    items = [conv(val) for (conv, val) in zip(converters, vals)]\n",
      "  File \"c:\\users\\shami\\appdata\\local\\programs\\python\\python38\\lib\\site-packages\\numpy\\lib\\npyio.py\", line 763, in floatconv\n",
      "    return float(x)\n",
      "--- Logging error ---\n",
      "Traceback (most recent call last):\n",
      "  File \"c:\\users\\shami\\appdata\\local\\programs\\python\\python38\\lib\\site-packages\\IPython\\core\\interactiveshell.py\", line 3331, in run_code\n",
      "    exec(code_obj, self.user_global_ns, self.user_ns)\n",
      "  File \"<ipython-input-3-adad3772db8e>\", line 1, in <module>\n",
      "    file1 = loadtxt('cac_AD2000sec_IPR20IP30.065_07_02_22final.dat')##final for AD20IP3R\n",
      "  File \"c:\\users\\shami\\appdata\\local\\programs\\python\\python38\\lib\\site-packages\\numpy\\lib\\npyio.py\", line 1139, in loadtxt\n",
      "    for x in read_data(_loadtxt_chunksize):\n",
      "  File \"c:\\users\\shami\\appdata\\local\\programs\\python\\python38\\lib\\site-packages\\numpy\\lib\\npyio.py\", line 1067, in read_data\n",
      "    items = [conv(val) for (conv, val) in zip(converters, vals)]\n",
      "  File \"c:\\users\\shami\\appdata\\local\\programs\\python\\python38\\lib\\site-packages\\numpy\\lib\\npyio.py\", line 1067, in <listcomp>\n",
      "    items = [conv(val) for (conv, val) in zip(converters, vals)]\n",
      "  File \"c:\\users\\shami\\appdata\\local\\programs\\python\\python38\\lib\\site-packages\\numpy\\lib\\npyio.py\", line 763, in floatconv\n",
      "    return float(x)\n",
      "--- Logging error ---\n",
      "Traceback (most recent call last):\n",
      "  File \"c:\\users\\shami\\appdata\\local\\programs\\python\\python38\\lib\\site-packages\\IPython\\core\\interactiveshell.py\", line 3331, in run_code\n",
      "    exec(code_obj, self.user_global_ns, self.user_ns)\n",
      "  File \"<ipython-input-3-adad3772db8e>\", line 1, in <module>\n",
      "    file1 = loadtxt('cac_AD2000sec_IPR20IP30.065_07_02_22final.dat')##final for AD20IP3R\n",
      "  File \"c:\\users\\shami\\appdata\\local\\programs\\python\\python38\\lib\\site-packages\\numpy\\lib\\npyio.py\", line 1139, in loadtxt\n",
      "    for x in read_data(_loadtxt_chunksize):\n",
      "  File \"c:\\users\\shami\\appdata\\local\\programs\\python\\python38\\lib\\site-packages\\numpy\\lib\\npyio.py\", line 1067, in read_data\n",
      "    items = [conv(val) for (conv, val) in zip(converters, vals)]\n",
      "  File \"c:\\users\\shami\\appdata\\local\\programs\\python\\python38\\lib\\site-packages\\numpy\\lib\\npyio.py\", line 1067, in <listcomp>\n",
      "    items = [conv(val) for (conv, val) in zip(converters, vals)]\n",
      "  File \"c:\\users\\shami\\appdata\\local\\programs\\python\\python38\\lib\\site-packages\\numpy\\lib\\npyio.py\", line 763, in floatconv\n",
      "    return float(x)\n",
      "--- Logging error ---\n",
      "Traceback (most recent call last):\n",
      "  File \"c:\\users\\shami\\appdata\\local\\programs\\python\\python38\\lib\\site-packages\\IPython\\core\\interactiveshell.py\", line 3331, in run_code\n",
      "    exec(code_obj, self.user_global_ns, self.user_ns)\n",
      "  File \"<ipython-input-3-adad3772db8e>\", line 1, in <module>\n",
      "    file1 = loadtxt('cac_AD2000sec_IPR20IP30.065_07_02_22final.dat')##final for AD20IP3R\n",
      "  File \"c:\\users\\shami\\appdata\\local\\programs\\python\\python38\\lib\\site-packages\\numpy\\lib\\npyio.py\", line 1139, in loadtxt\n",
      "    for x in read_data(_loadtxt_chunksize):\n",
      "  File \"c:\\users\\shami\\appdata\\local\\programs\\python\\python38\\lib\\site-packages\\numpy\\lib\\npyio.py\", line 1067, in read_data\n",
      "    items = [conv(val) for (conv, val) in zip(converters, vals)]\n",
      "  File \"c:\\users\\shami\\appdata\\local\\programs\\python\\python38\\lib\\site-packages\\numpy\\lib\\npyio.py\", line 1067, in <listcomp>\n",
      "    items = [conv(val) for (conv, val) in zip(converters, vals)]\n",
      "  File \"c:\\users\\shami\\appdata\\local\\programs\\python\\python38\\lib\\site-packages\\numpy\\lib\\npyio.py\", line 763, in floatconv\n",
      "    return float(x)\n",
      "Error in sys.excepthook:\n",
      "Traceback (most recent call last):\n",
      "  File \"c:\\users\\shami\\appdata\\local\\programs\\python\\python38\\lib\\site-packages\\ipykernel\\kernelapp.py\", line 171, in excepthook\n",
      "    traceback.print_exception(etype, evalue, tb, file=sys.__stderr__)\n",
      "  File \"c:\\users\\shami\\appdata\\local\\programs\\python\\python38\\lib\\traceback.py\", line 103, in print_exception\n",
      "    for line in TracebackException(\n",
      "  File \"c:\\users\\shami\\appdata\\local\\programs\\python\\python38\\lib\\traceback.py\", line 609, in format\n",
      "    yield from self.__context__.format(chain=chain)\n",
      "  File \"c:\\users\\shami\\appdata\\local\\programs\\python\\python38\\lib\\traceback.py\", line 609, in format\n",
      "    yield from self.__context__.format(chain=chain)\n",
      "  File \"c:\\users\\shami\\appdata\\local\\programs\\python\\python38\\lib\\traceback.py\", line 609, in format\n",
      "    yield from self.__context__.format(chain=chain)\n",
      "  [Previous line repeated 13 more times]\n",
      "  File \"c:\\users\\shami\\appdata\\local\\programs\\python\\python38\\lib\\traceback.py\", line 614, in format\n",
      "    yield from self.format_exception_only()\n",
      "  File \"c:\\users\\shami\\appdata\\local\\programs\\python\\python38\\lib\\traceback.py\", line 569, in format_exception_only\n",
      "    yield _format_final_exc_line(stype, self._str)\n",
      "  File \"c:\\users\\shami\\appdata\\local\\programs\\python\\python38\\lib\\traceback.py\", line 150, in _format_final_exc_line\n",
      "    line = \"%s: %s\\n\" % (etype, valuestr)\n",
      "MemoryError\n",
      "Exception in callback BaseAsyncIOLoop._handle_events(824, 1)\n",
      "handle: <Handle BaseAsyncIOLoop._handle_events(824, 1)>\n",
      "Traceback (most recent call last):\n",
      "  File \"c:\\users\\shami\\appdata\\local\\programs\\python\\python38\\lib\\asyncio\\events.py\", line 81, in _run\n",
      "    self._context.run(self._callback, *self._args)\n",
      "  File \"c:\\users\\shami\\appdata\\local\\programs\\python\\python38\\lib\\site-packages\\tornado\\platform\\asyncio.py\", line 138, in _handle_events\n",
      "    handler_func(fileobj, events)\n",
      "  File \"c:\\users\\shami\\appdata\\local\\programs\\python\\python38\\lib\\site-packages\\zmq\\eventloop\\zmqstream.py\", line 456, in _handle_events\n",
      "    self._handle_recv()\n",
      "  File \"c:\\users\\shami\\appdata\\local\\programs\\python\\python38\\lib\\site-packages\\zmq\\eventloop\\zmqstream.py\", line 486, in _handle_recv\n",
      "    self._run_callback(callback, msg)\n",
      "  File \"c:\\users\\shami\\appdata\\local\\programs\\python\\python38\\lib\\site-packages\\zmq\\eventloop\\zmqstream.py\", line 438, in _run_callback\n",
      "    callback(*args, **kwargs)\n",
      "  File \"c:\\users\\shami\\appdata\\local\\programs\\python\\python38\\lib\\site-packages\\ipykernel\\iostream.py\", line 120, in _handle_event\n",
      "    event_f()\n",
      "  File \"c:\\users\\shami\\appdata\\local\\programs\\python\\python38\\lib\\site-packages\\ipykernel\\iostream.py\", line 374, in _flush\n",
      "    data = self._flush_buffer()\n",
      "  File \"c:\\users\\shami\\appdata\\local\\programs\\python\\python38\\lib\\site-packages\\ipykernel\\iostream.py\", line 431, in _flush_buffer\n",
      "    data = buf.getvalue()\n",
      "MemoryError\n"
     ]
    }
   ],
   "source": [
    "file1 = loadtxt('cac_AD2000sec_IPR20IP30.065_07_02_22final.dat')##final for AD20IP3R"
   ]
  },
  {
   "cell_type": "code",
   "execution_count": null,
   "metadata": {},
   "outputs": [],
   "source": []
  },
  {
   "cell_type": "code",
   "execution_count": null,
   "metadata": {},
   "outputs": [],
   "source": [
    "fig, ax = plt.subplots(figsize=(12,10))\n",
    "for axis in ['top', 'bottom', 'left', 'right']:\n",
    "    ax.spines[axis].set_linewidth(8.0)  # change width\n",
    "f1=file1[0:2500000,0]\n",
    "f2=file1[0:2500000,1]\n",
    "plt.plot(f1,f2,color='red')\n",
    "plt.xlabel('Time (S)',fontsize = 32,fontweight='bold')\n",
    "plt.ylabel('[Ca\\u00b2\\u207A]\\u1D62(µM)',fontsize = 32,fontweight='bold')\n",
    "#plt.title('Calciumpeaks_WT_Compartmental20IPR',fontsize = 32,fontweight='bold')\n",
    "plt.xticks(fontsize = 26,fontweight='bold')\n",
    "plt.yticks(fontsize = 32,fontweight='bold')"
   ]
  },
  {
   "cell_type": "code",
   "execution_count": null,
   "metadata": {},
   "outputs": [],
   "source": [
    "fig, ax = plt.subplots(figsize=(12,10))\n",
    "for axis in ['top', 'bottom', 'left', 'right']:\n",
    "    ax.spines[axis].set_linewidth(8.0)  # change width\n",
    "f1=file1[0:2500000,0]\n",
    "f2=file1[0:2500000,1]\n",
    "plt.plot(f1,f2,color='red')\n",
    "plt.xlabel('Time (S)',fontsize = 32,fontweight='bold')\n",
    "plt.ylabel('[Ca\\u00b2\\u207A]\\u1D62(µM)',fontsize = 32,fontweight='bold')\n",
    "#plt.title('Calciumpeaks_WT_Compartmental20IPR',fontsize = 32,fontweight='bold')\n",
    "plt.xticks(fontsize = 26,fontweight='bold')\n",
    "plt.yticks(fontsize = 32,fontweight='bold')"
   ]
  },
  {
   "cell_type": "code",
   "execution_count": null,
   "metadata": {},
   "outputs": [],
   "source": [
    "fig, ax = plt.subplots(figsize=(12,10))\n",
    "for axis in ['top', 'bottom', 'left', 'right']:\n",
    "    ax.spines[axis].set_linewidth(8.0)  # change width\n",
    "f1=file1[266000:868000,0]\n",
    "f2=file1[866000:868000,1]\n",
    "plt.plot(f1,f2,color='red',linewidth=6.0)\n",
    "plt.xlabel('Time (S)',fontsize = 32,fontweight='bold')\n",
    "plt.ylabel('[Ca\\u00b2\\u207A]\\u1D62(µM)',fontsize = 32,fontweight='bold')\n",
    "#plt.title('Calciumpeaks_WT_Compartmental20IPR',fontsize = 32,fontweight='bold')\n",
    "plt.xticks(np.arange(26.0,27.0,0.05),fontsize = 32,fontweight='bold')\n",
    "plt.yticks(np.arange(0.05,1.5,0.2),fontsize = 30,fontweight='bold')\n"
   ]
  },
  {
   "cell_type": "code",
   "execution_count": null,
   "metadata": {},
   "outputs": [],
   "source": [
    "file1"
   ]
  },
  {
   "cell_type": "code",
   "execution_count": null,
   "metadata": {},
   "outputs": [],
   "source": [
    "fig, ax = plt.subplots(figsize=(12,10))\n",
    "for axis in ['top', 'bottom', 'left', 'right']:\n",
    "    ax.spines[axis].set_linewidth(8.0)  # change width\n",
    "f1=file1[2500000:5000000,0]\n",
    "f2=file1[2500000:5000000,1]\n",
    "plt.plot(f1,f2,color='red')\n",
    "plt.xlabel('Time (Sec)',fontsize = 32,fontweight='bold')\n",
    "plt.ylabel('[Ca\\u00b2\\u207A]\\u1D62(µM)',fontsize = 32,fontweight='bold')\n",
    "#plt.title('Calciumpeaks_WT_Compartmental20IPR',fontsize = 32,fontweight='bold')\n",
    "plt.xticks(fontsize = 26,fontweight='bold')\n",
    "plt.yticks(fontsize = 32,fontweight='bold')"
   ]
  },
  {
   "cell_type": "code",
   "execution_count": null,
   "metadata": {},
   "outputs": [],
   "source": [
    "fig, ax = plt.subplots(figsize=(12,10))\n",
    "for axis in ['top', 'bottom', 'left', 'right']:\n",
    "    ax.spines[axis].set_linewidth(8.0)  # change width\n",
    "f1=file1[2500000:5000000,0]\n",
    "f2=file1[2500000:5000000,1]\n",
    "plt.plot(f1,f2,color='red')\n",
    "plt.xlabel('Time (Sec)',fontsize = 32,fontweight='bold')\n",
    "plt.ylabel('[Ca\\u00b2\\u207A]\\u1D62(µM)',fontsize = 32,fontweight='bold')\n",
    "#plt.title('Calciumpeaks_WT_Compartmental20IPR',fontsize = 32,fontweight='bold')\n",
    "plt.xticks(fontsize = 26,fontweight='bold')\n",
    "plt.yticks(fontsize = 32,fontweight='bold')"
   ]
  },
  {
   "cell_type": "code",
   "execution_count": null,
   "metadata": {},
   "outputs": [],
   "source": [
    "file1 = loadtxt('cac_AD2000sec_IPR10IP30.065_08_15_22final.dat')##final for 10IP3R## finalfinal-05_15-2023-AD"
   ]
  },
  {
   "cell_type": "code",
   "execution_count": null,
   "metadata": {},
   "outputs": [],
   "source": [
    "file1"
   ]
  },
  {
   "cell_type": "code",
   "execution_count": null,
   "metadata": {},
   "outputs": [],
   "source": [
    "fig, ax = plt.subplots(figsize=(12,10))\n",
    "for axis in ['top', 'bottom', 'left', 'right']:\n",
    "    ax.spines[axis].set_linewidth(8.0)  # change width\n",
    "f1=file1[2500000:5000000,0]\n",
    "f2=file1[2500000:5000000,1]\n",
    "plt.plot(f1,f2,color='red')\n",
    "plt.xlabel('Time (Sec)',fontsize = 32,fontweight='bold')\n",
    "plt.ylabel('[Ca\\u00b2\\u207A]\\u1D62(µM)',fontsize = 32,fontweight='bold')\n",
    "#plt.title('Calciumpeaks_WT_Compartmental20IPR',fontsize = 32,fontweight='bold')\n",
    "plt.xticks(fontsize = 26,fontweight='bold')\n",
    "plt.yticks(fontsize = 32,fontweight='bold')"
   ]
  },
  {
   "cell_type": "code",
   "execution_count": null,
   "metadata": {},
   "outputs": [],
   "source": [
    "fig, ax = plt.subplots(figsize=(12,10))\n",
    "for axis in ['top', 'bottom', 'left', 'right']:\n",
    "    ax.spines[axis].set_linewidth(8.0)  # change width\n",
    "f1=file1[0:2500000,0]\n",
    "f2=file1[0:2500000,1]\n",
    "plt.plot(f1,f2,color='red')\n",
    "plt.xlabel('Time (S)',fontsize = 32,fontweight='bold')\n",
    "plt.ylabel('[Ca\\u00b2\\u207A]\\u1D62(µM)',fontsize = 32,fontweight='bold')\n",
    "#plt.title('Calciumpeaks_WT_Compartmental20IPR',fontsize = 32,fontweight='bold')\n",
    "plt.xticks(fontsize = 26,fontweight='bold')\n",
    "plt.yticks(fontsize = 32,fontweight='bold')\n",
    "#plt.grid(axis='y', alpha=0.25)"
   ]
  },
  {
   "cell_type": "code",
   "execution_count": null,
   "metadata": {},
   "outputs": [],
   "source": [
    "fig, ax = plt.subplots(figsize=(12,10))\n",
    "for axis in ['top', 'bottom', 'left', 'right']:\n",
    "    ax.spines[axis].set_linewidth(8.0)  # change width\n",
    "f1=file1[0:20000000,0]\n",
    "f2=file1[0:20000000,1]\n",
    "plt.plot(f1,f2,color='red')\n",
    "plt.xlabel('Time (S)',fontsize = 32,fontweight='bold')\n",
    "plt.ylabel('[Ca\\u00b2\\u207A]\\u1D62(µM)',fontsize = 32,fontweight='bold')\n",
    "#plt.title('Calciumpeaks_WT_Compartmental20IPR',fontsize = 32,fontweight='bold')\n",
    "plt.xticks(fontsize = 26,fontweight='bold')\n",
    "plt.yticks(fontsize = 32,fontweight='bold')"
   ]
  },
  {
   "cell_type": "code",
   "execution_count": null,
   "metadata": {},
   "outputs": [],
   "source": [
    "fig, ax = plt.subplots(figsize=(12,10))\n",
    "for axis in ['top', 'bottom', 'left', 'right']:\n",
    "    ax.spines[axis].set_linewidth(8.0)  # change width\n",
    "f1=file1[0:2500000,0]\n",
    "f2=file1[0:2500000,1]\n",
    "plt.plot(f1,f2,color='red')\n",
    "plt.xlabel('Time (S)',fontsize = 32,fontweight='bold')\n",
    "plt.ylabel('[Ca\\u00b2\\u207A]\\u1D62(µM)',fontsize = 32,fontweight='bold')\n",
    "#plt.title('Calciumpeaks_WT_Compartmental20IPR',fontsize = 32,fontweight='bold')\n",
    "plt.xticks(fontsize = 26,fontweight='bold')\n",
    "plt.yticks(fontsize = 32,fontweight='bold')\n",
    "#plt.grid(axis='y', alpha=0.25)"
   ]
  },
  {
   "cell_type": "code",
   "execution_count": null,
   "metadata": {},
   "outputs": [],
   "source": [
    "df2=pd.DataFrame(data=file1)\n",
    "with open('data_Cac_AD2000secCM10IP3R.csv', 'w') as f:\n",
    "                     (df2).to_csv(f, header=True)\n",
    "d1=pd.read_csv('data_Cac_AD2000secCM10IP3R.csv')\n",
    "d1=d1.drop(['Unnamed: 0'], axis=1)\n",
    "d1.columns=['Time','Calcium']\n",
    "d1\n",
    "df3=pd.DataFrame(data=d1)\n",
    "with open('data_Cac_AD2000secCM10IP3RFinal.csv', 'w') as f:\n",
    "                     (df3).to_csv(f, header=True,index=False)\n",
    "d2=pd.read_csv('data_Cac_AD2000secCM10IP3RFinal.csv')"
   ]
  },
  {
   "cell_type": "code",
   "execution_count": null,
   "metadata": {},
   "outputs": [],
   "source": [
    "d3=d2[17500000:20000000]\n",
    "d3.iplot(x='Time',y='Calcium')"
   ]
  },
  {
   "cell_type": "code",
   "execution_count": null,
   "metadata": {},
   "outputs": [],
   "source": [
    "fig, ax = plt.subplots(figsize=(12,10))\n",
    "for axis in ['top', 'bottom', 'left', 'right']:\n",
    "    ax.spines[axis].set_linewidth(8.0)  # change width\n",
    "f1=file1[0:20000000,0]\n",
    "f2=file1[0:20000000,1]\n",
    "plt.plot(f1,f2,color='red')\n",
    "plt.xlabel('Time (Sec)',fontsize = 32,fontweight='bold')\n",
    "plt.ylabel('[Ca\\u00b2\\u207A]\\u1D62(µM)',fontsize = 32,fontweight='bold')\n",
    "#plt.title('Calciumpeaks_WT_Compartmental20IPR',fontsize = 32,fontweight='bold')\n",
    "plt.xticks(fontsize = 26,fontweight='bold')\n",
    "plt.yticks(fontsize = 32,fontweight='bold')\n",
    "#plt.grid(axis='y', alpha=0.25)"
   ]
  },
  {
   "cell_type": "code",
   "execution_count": null,
   "metadata": {},
   "outputs": [],
   "source": [
    "fig, ax = plt.subplots(figsize=(12,10))\n",
    "for axis in ['top', 'bottom', 'left', 'right']:\n",
    "    ax.spines[axis].set_linewidth(8.0)  # change width\n",
    "f1=file1[686000:688000,0]\n",
    "f2=file1[686000:688000,1]\n",
    "plt.plot(f1,f2,color='red',linewidth=6.0)\n",
    "plt.xlabel('Time (Sec)',fontsize = 32,fontweight='bold')\n",
    "plt.ylabel('[Ca\\u00b2\\u207A]\\u1D62(µM)',fontsize = 32,fontweight='bold')\n",
    "#plt.title('Calciumpeaks_WT_Compartmental20IPR',fontsize = 32,fontweight='bold')\n",
    "plt.xticks(np.arange(68.6,68.8,0.1),fontsize = 32,fontweight='bold')\n",
    "plt.yticks(np.arange(0.05,0.6,0.1),fontsize = 30,fontweight='bold')"
   ]
  },
  {
   "cell_type": "code",
   "execution_count": null,
   "metadata": {},
   "outputs": [],
   "source": []
  },
  {
   "cell_type": "code",
   "execution_count": null,
   "metadata": {},
   "outputs": [],
   "source": [
    "file1 = loadtxt('cac_AD2000sec_IPR30IP30.065_08_15_22final.dat')##final 30IP3R_finalfinal_05_15_2023"
   ]
  },
  {
   "cell_type": "code",
   "execution_count": null,
   "metadata": {},
   "outputs": [],
   "source": [
    "file1"
   ]
  },
  {
   "cell_type": "code",
   "execution_count": null,
   "metadata": {},
   "outputs": [],
   "source": [
    "fig, ax = plt.subplots(figsize=(12,10))\n",
    "for axis in ['top', 'bottom', 'left', 'right']:\n",
    "    ax.spines[axis].set_linewidth(8.0)  # change width\n",
    "f1=file1[0:2500000,0]\n",
    "f2=file1[0:2500000,1]\n",
    "plt.plot(f1,f2,color='red')\n",
    "plt.xlabel('Time (S)',fontsize = 32,fontweight='bold')\n",
    "plt.ylabel('[Ca\\u00b2\\u207A]\\u1D62(µM)',fontsize = 32,fontweight='bold')\n",
    "#plt.title('Calciumpeaks_WT_Compartmental20IPR',fontsize = 32,fontweight='bold')\n",
    "plt.xticks(fontsize = 26,fontweight='bold')\n",
    "plt.yticks(fontsize = 32,fontweight='bold')"
   ]
  },
  {
   "cell_type": "code",
   "execution_count": null,
   "metadata": {},
   "outputs": [],
   "source": [
    "fig, ax = plt.subplots(figsize=(12,10))\n",
    "for axis in ['top', 'bottom', 'left', 'right']:\n",
    "    ax.spines[axis].set_linewidth(8.0)  # change width\n",
    "f1=file1[0:20000000,0]\n",
    "f2=file1[0:20000000,1]\n",
    "plt.plot(f1,f2,color='red')\n",
    "plt.xlabel('Time (S)',fontsize = 32,fontweight='bold')\n",
    "plt.ylabel('[Ca\\u00b2\\u207A]\\u1D62(µM)',fontsize = 32,fontweight='bold')\n",
    "#plt.title('Calciumpeaks_WT_Compartmental20IPR',fontsize = 32,fontweight='bold')\n",
    "plt.xticks(fontsize = 26,fontweight='bold')\n",
    "plt.yticks(fontsize = 32,fontweight='bold')"
   ]
  },
  {
   "cell_type": "code",
   "execution_count": null,
   "metadata": {},
   "outputs": [],
   "source": [
    "fig, ax = plt.subplots(figsize=(12,10))\n",
    "for axis in ['top', 'bottom', 'left', 'right']:\n",
    "    ax.spines[axis].set_linewidth(8.0)  # change width\n",
    "f1=file1[2500000:5000000,0]\n",
    "f2=file1[2500000:5000000,1]\n",
    "plt.plot(f1,f2,color='red')\n",
    "plt.xlabel('Time (Sec)',fontsize = 32,fontweight='bold')\n",
    "plt.ylabel('[Ca\\u00b2\\u207A]\\u1D62(µM)',fontsize = 32,fontweight='bold')\n",
    "#plt.title('Calciumpeaks_WT_Compartmental20IPR',fontsize = 32,fontweight='bold')\n",
    "plt.xticks(fontsize = 26,fontweight='bold')\n",
    "plt.yticks(fontsize = 32,fontweight='bold')"
   ]
  },
  {
   "cell_type": "code",
   "execution_count": null,
   "metadata": {},
   "outputs": [],
   "source": []
  },
  {
   "cell_type": "code",
   "execution_count": null,
   "metadata": {},
   "outputs": [],
   "source": []
  },
  {
   "cell_type": "code",
   "execution_count": null,
   "metadata": {},
   "outputs": [],
   "source": []
  },
  {
   "cell_type": "code",
   "execution_count": null,
   "metadata": {},
   "outputs": [],
   "source": [
    "df2=pd.DataFrame(data=file1)\n",
    "with open('data_Cac_AD2000secCM20IP3R.csv', 'w') as f:\n",
    "                     (df2).to_csv(f, header=True)\n",
    "d1=pd.read_csv('data_Cac_AD2000secCM20IP3R.csv')\n",
    "d1=d1.drop(['Unnamed: 0'], axis=1)\n",
    "d1.columns=['Time','Calcium']\n",
    "d1\n",
    "df3=pd.DataFrame(data=d1)\n",
    "with open('data_Cac_AD2000secCM20IP3RFinal.csv', 'w') as f:\n",
    "                     (df3).to_csv(f, header=True,index=False)\n",
    "d2=pd.read_csv('data_Cac_AD2000secCM20IP3RFinal.csv')"
   ]
  },
  {
   "cell_type": "code",
   "execution_count": null,
   "metadata": {},
   "outputs": [],
   "source": [
    "d3=d2[17500000:20000000]\n",
    "d3.iplot(x='Time',y='Calcium')"
   ]
  },
  {
   "cell_type": "code",
   "execution_count": null,
   "metadata": {},
   "outputs": [],
   "source": [
    "fig, ax = plt.subplots(figsize=(12,10))\n",
    "for axis in ['top', 'bottom', 'left', 'right']:\n",
    "    ax.spines[axis].set_linewidth(8.0)  # change width\n",
    "f1=file1[0:20000000,0]\n",
    "f2=file1[0:20000000,1]\n",
    "plt.plot(f1,f2,color='red')\n",
    "plt.xlabel('Time (Sec)',fontsize = 32,fontweight='bold')\n",
    "plt.ylabel('[Ca\\u00b2\\u207A]\\u1D62(µM)',fontsize = 32,fontweight='bold')\n",
    "#plt.title('Calciumpeaks_WT_Compartmental20IPR',fontsize = 32,fontweight='bold')\n",
    "plt.xticks(fontsize = 26,fontweight='bold')\n",
    "plt.yticks(fontsize = 32,fontweight='bold')\n",
    "#plt.grid(axis='y', alpha=0.25)"
   ]
  },
  {
   "cell_type": "code",
   "execution_count": null,
   "metadata": {},
   "outputs": [],
   "source": [
    "#file1 = loadtxt('Cac_wt2000sec15IPR_CM.dat')"
   ]
  },
  {
   "cell_type": "code",
   "execution_count": null,
   "metadata": {},
   "outputs": [],
   "source": [
    "file1"
   ]
  },
  {
   "cell_type": "code",
   "execution_count": null,
   "metadata": {
    "scrolled": true
   },
   "outputs": [],
   "source": [
    "fig, ax = plt.subplots(figsize=(12,10))\n",
    "for axis in ['top', 'bottom', 'left', 'right']:\n",
    "    ax.spines[axis].set_linewidth(8.0)  # change width\n",
    "f1=file1[866000:868000,0]\n",
    "f2=file1[866000:868000,1]\n",
    "plt.plot(f1,f2,color='red')\n",
    "plt.xlabel('Time (Sec)',fontsize = 32,fontweight='bold')\n",
    "plt.ylabel('[Ca\\u00b2\\u207A]\\u1D62(µM)',fontsize = 32,fontweight='bold')\n",
    "#plt.title('Calciumpeaks_WT_Compartmental20IPR',fontsize = 32,fontweight='bold')\n",
    "plt.xticks(fontsize = 32,fontweight='bold')\n",
    "plt.yticks(fontsize = 32,fontweight='bold')\n",
    "#plt.grid(axis='y', alpha=0.25)"
   ]
  },
  {
   "cell_type": "code",
   "execution_count": null,
   "metadata": {},
   "outputs": [],
   "source": [
    "fig, ax = plt.subplots(figsize=(12,10))\n",
    "for axis in ['top', 'bottom', 'left', 'right']:\n",
    "    ax.spines[axis].set_linewidth(8.0)  # change width\n",
    "f1=file1[0:2500000,0]\n",
    "f2=file1[0:2500000,1]\n",
    "plt.plot(f1,f2,color='red')\n",
    "plt.xlabel('Time (Sec)',fontsize = 32,fontweight='bold')\n",
    "plt.ylabel('[Ca\\u00b2\\u207A]\\u1D62(µM)',fontsize = 32,fontweight='bold')\n",
    "#plt.title('Calciumpeaks_WT_Compartmental20IPR',fontsize = 32,fontweight='bold')\n",
    "plt.xticks(fontsize = 32,fontweight='bold')\n",
    "plt.yticks(fontsize = 32,fontweight='bold')\n",
    "#plt.grid(axis='y', alpha=0.25)"
   ]
  },
  {
   "cell_type": "code",
   "execution_count": null,
   "metadata": {},
   "outputs": [],
   "source": []
  },
  {
   "cell_type": "code",
   "execution_count": null,
   "metadata": {},
   "outputs": [],
   "source": [
    "df2=pd.DataFrame(data=file1)\n",
    "with open('data_Cac_AD2000secCM20IP3R.csv', 'w') as f:\n",
    "                     (df2).to_csv(f, header=True)\n",
    "d1=pd.read_csv('data_Cac_AD2000secCM20IP3R.csv')\n",
    "d1=d1.drop(['Unnamed: 0'], axis=1)\n",
    "d1.columns=['Time','Calcium']\n",
    "d1\n",
    "df3=pd.DataFrame(data=d1)\n",
    "with open('data_Cac_AD2000secCM20IP3RFinal.csv', 'w') as f:\n",
    "                     (df3).to_csv(f, header=True,index=False)\n",
    "d2=pd.read_csv('data_Cac_AD2000secCM20IP3RFinal.csv')"
   ]
  },
  {
   "cell_type": "code",
   "execution_count": null,
   "metadata": {},
   "outputs": [],
   "source": [
    "d2=pd.read_csv('data_Cac_AD2000secCM20IP3RFinal.csv')"
   ]
  },
  {
   "cell_type": "code",
   "execution_count": null,
   "metadata": {},
   "outputs": [],
   "source": [
    "d3=d2[17500000:20000000]\n",
    "d3.iplot(x='Time',y='Calcium')"
   ]
  },
  {
   "cell_type": "code",
   "execution_count": null,
   "metadata": {},
   "outputs": [],
   "source": [
    "d3.iplot(x='Time',y='Calcium')"
   ]
  },
  {
   "cell_type": "code",
   "execution_count": null,
   "metadata": {},
   "outputs": [],
   "source": [
    "d3=d2[0:2500000]"
   ]
  },
  {
   "cell_type": "code",
   "execution_count": null,
   "metadata": {},
   "outputs": [],
   "source": [
    "d3.iplot(x='Time',y='Calcium')"
   ]
  },
  {
   "cell_type": "code",
   "execution_count": null,
   "metadata": {},
   "outputs": [],
   "source": [
    "fig, ax = plt.subplots(figsize=(12,10))\n",
    "for axis in ['top', 'bottom', 'left', 'right']:\n",
    "    ax.spines[axis].set_linewidth(8.0)  # change width\n",
    "f1=file1[0:2500000,0]\n",
    "f2=file1[0:2500000,1]\n",
    "plt.plot(f1,f2,color='red')\n",
    "plt.xlabel('Time (Sec)',fontsize = 32,fontweight='bold')\n",
    "plt.ylabel('[Ca\\u00b2\\u207A]\\u1D62(µM)',fontsize = 32,fontweight='bold')\n",
    "#plt.title('Calciumpeaks_WT_Compartmental20IPR',fontsize = 32,fontweight='bold')\n",
    "plt.xticks(fontsize = 32,fontweight='bold')\n",
    "plt.yticks(fontsize = 32,fontweight='bold')\n",
    "plt.grid(axis='y', alpha=0.25)"
   ]
  },
  {
   "cell_type": "code",
   "execution_count": null,
   "metadata": {},
   "outputs": [],
   "source": [
    "fig, ax = plt.subplots(figsize=(12,10))\n",
    "for axis in ['top', 'bottom', 'left', 'right']:\n",
    "    ax.spines[axis].set_linewidth(8.0)  # change width\n",
    "f1=file1[0:20000000,0]\n",
    "f2=file1[0:20000000,1]\n",
    "plt.plot(f1,f2,color='red')\n",
    "plt.xlabel('Time (Sec)',fontsize = 32,fontweight='bold')\n",
    "plt.ylabel('[Ca\\u00b2\\u207A]\\u1D62(µM)',fontsize = 32,fontweight='bold')\n",
    "#plt.title('Calciumpeaks_WT_Compartmental20IPR',fontsize = 32,fontweight='bold')\n",
    "plt.xticks(fontsize = 26,fontweight='bold')\n",
    "plt.yticks(fontsize = 32,fontweight='bold')\n",
    "#plt.grid(axis='y', alpha=0.25)"
   ]
  },
  {
   "cell_type": "code",
   "execution_count": null,
   "metadata": {},
   "outputs": [],
   "source": [
    "df2=pd.DataFrame(data=file1)\n",
    "with open('data_Cac_WT2000secCM15IP3R.csv', 'w') as f:\n",
    "                     (df2).to_csv(f, header=True)\n",
    "d1=pd.read_csv('data_Cac_WT2000secCM15IP3R.csv')\n",
    "d1=d1.drop(['Unnamed: 0'], axis=1)\n",
    "d1.columns=['Time','Calcium']\n",
    "d1\n",
    "df3=pd.DataFrame(data=d1)\n",
    "with open('data_Cac_WT2000secCM15IP3RFinal.csv', 'w') as f:\n",
    "                     (df3).to_csv(f, header=True,index=False)\n",
    "d2=pd.read_csv('data_Cac_WT2000secCM150IP3RFinal.csv')\n",
    "#d3=d2[0:2000000]\n",
    "#d3"
   ]
  },
  {
   "cell_type": "code",
   "execution_count": null,
   "metadata": {},
   "outputs": [],
   "source": [
    "d2=pd.read_csv('data_Cac_WT2000secCM150IP3RFinal.csv')"
   ]
  },
  {
   "cell_type": "code",
   "execution_count": null,
   "metadata": {},
   "outputs": [],
   "source": []
  },
  {
   "cell_type": "code",
   "execution_count": null,
   "metadata": {},
   "outputs": [],
   "source": [
    "import plotly.graph_objects as go\n",
    "fig = go.Figure()"
   ]
  },
  {
   "cell_type": "code",
   "execution_count": null,
   "metadata": {},
   "outputs": [],
   "source": [
    "fig.add_trace(go.Scatter(\n",
    "    x=d3['Time'],\n",
    "    y=d3['Calcium'],\n",
    "    #name=\"IP3=0.033µM\"       # this sets its legend entry\n",
    "))"
   ]
  },
  {
   "cell_type": "code",
   "execution_count": null,
   "metadata": {},
   "outputs": [],
   "source": [
    "fig.update_layout(\n",
    "    #xaxis_type=\"log\",\n",
    "    #title=\"open probability of IP3 channel in Alzheimer's disease\",\n",
    "    xaxis_title=\"Time (Sec)\",\n",
    "    yaxis_title=\"[Ca\\u00b2\\u207A]\\u1D62(µM)\",\n",
    "    legend_title=\"Legend Title\",\n",
    "    font=dict(\n",
    "        family=\"Courier New, monospace\",\n",
    "        size=30,\n",
    "        color=\"RebeccaPurple\"\n",
    "    )\n",
    ")\n",
    "\n",
    "\n",
    "fig.show()\n"
   ]
  },
  {
   "cell_type": "code",
   "execution_count": null,
   "metadata": {},
   "outputs": [],
   "source": [
    "d2=pd.read_csv('data_Cac_WT2000secCM20IP3RFinal.csv')"
   ]
  },
  {
   "cell_type": "code",
   "execution_count": null,
   "metadata": {},
   "outputs": [],
   "source": [
    "d3=d2[0:2500000]"
   ]
  },
  {
   "cell_type": "code",
   "execution_count": null,
   "metadata": {},
   "outputs": [],
   "source": [
    "d3.iplot(x='Time',y='Calcium')"
   ]
  },
  {
   "cell_type": "code",
   "execution_count": null,
   "metadata": {},
   "outputs": [],
   "source": [
    "d3=d2[17500000:20000000]"
   ]
  },
  {
   "cell_type": "code",
   "execution_count": null,
   "metadata": {},
   "outputs": [],
   "source": [
    "d3.iplot(x='Time',y='Calcium')"
   ]
  },
  {
   "cell_type": "code",
   "execution_count": null,
   "metadata": {},
   "outputs": [],
   "source": [
    "fig, ax = plt.subplots(figsize=(12,10))\n",
    "f1=file1[0:10000000,0]\n",
    "f2=file1[0:10000000,1]\n",
    "plt.plot(f1,f2,color='red')\n",
    "plt.xlabel('Time (Sec)',fontsize = 20,fontweight='bold')\n",
    "plt.ylabel('Calcium(µM)',fontsize = 20,fontweight='bold')\n",
    "plt.title('Calciumpeaks_WT_Compartmental',fontsize = 22,fontweight='bold')\n",
    "plt.xticks(fontsize = 18,fontweight='bold')\n",
    "plt.yticks(fontsize = 18,fontweight='bold')\n",
    "plt.grid(axis='y', alpha=0.25)\n",
    "#plt.savefig('oscillation_CM_1000sec_05_13_22.png')"
   ]
  },
  {
   "cell_type": "code",
   "execution_count": null,
   "metadata": {},
   "outputs": [],
   "source": [
    "file1 = loadtxt('ca_oscillation3_cer500.dat')"
   ]
  },
  {
   "cell_type": "code",
   "execution_count": null,
   "metadata": {},
   "outputs": [],
   "source": [
    "len(file1)"
   ]
  },
  {
   "cell_type": "code",
   "execution_count": null,
   "metadata": {},
   "outputs": [],
   "source": [
    "fig, ax = plt.subplots(figsize=(12,10))\n",
    "f1=file1[2000000:10000000,0]\n",
    "f2=file1[2000000:10000000,1]\n",
    "plt.plot(f1,f2,color='red')\n",
    "plt.xlabel('Time (Sec)',fontsize = 20,fontweight='bold')\n",
    "plt.ylabel('Calcium(µM)',fontsize = 20,fontweight='bold')\n",
    "plt.title('Calciumpeaks_AD_Compartmental',fontsize = 22,fontweight='bold')\n",
    "plt.xticks(fontsize = 18,fontweight='bold')\n",
    "plt.yticks(fontsize = 18,fontweight='bold')\n",
    "plt.grid(axis='y', alpha=0.25)\n",
    "plt.savefig('oscillation_CM_1000sec_05_13_22.png')"
   ]
  },
  {
   "cell_type": "code",
   "execution_count": null,
   "metadata": {},
   "outputs": [],
   "source": [
    "file1 = loadtxt('ca_bf_oscillation1_WTvs6.dat')"
   ]
  },
  {
   "cell_type": "code",
   "execution_count": null,
   "metadata": {},
   "outputs": [],
   "source": [
    "file1"
   ]
  },
  {
   "cell_type": "code",
   "execution_count": null,
   "metadata": {},
   "outputs": [],
   "source": [
    "len(file1)"
   ]
  },
  {
   "cell_type": "code",
   "execution_count": null,
   "metadata": {},
   "outputs": [],
   "source": [
    "fig, ax = plt.subplots(figsize=(12,10))\n",
    "f1=file1[0:1000000,0]\n",
    "f2=file1[0:1000000,1]\n",
    "plt.plot(f1,f2,color='red')\n",
    "plt.xlabel('Time (Sec)',fontsize = 20,fontweight='bold')\n",
    "plt.ylabel('Calcium(µM)',fontsize = 20,fontweight='bold')\n",
    "plt.title('Calciumpeaks_AD_Compartmental',fontsize = 22,fontweight='bold')\n",
    "plt.xticks(fontsize = 18,fontweight='bold')\n",
    "plt.yticks(fontsize = 18,fontweight='bold')\n",
    "plt.grid(axis='y', alpha=0.25)\n",
    "#plt.savefig('Capeaks_CM_AD250sec_repeatFinalFinal2.png')"
   ]
  },
  {
   "cell_type": "code",
   "execution_count": null,
   "metadata": {},
   "outputs": [],
   "source": [
    "fig, ax = plt.subplots(figsize=(12,10))\n"
   ]
  },
  {
   "cell_type": "code",
   "execution_count": null,
   "metadata": {},
   "outputs": [],
   "source": [
    "fig, ax = plt.subplots(figsize=(12,10))\n",
    "f1=file1[2000000:10000000,0]\n",
    "f2=file1[2000000:10000000,1]\n",
    "plt.plot(f1,f2,color='red')\n",
    "plt.xlabel('Time (Sec)',fontsize = 20,fontweight='bold')\n",
    "plt.ylabel('Calcium(µM)',fontsize = 20,fontweight='bold')\n",
    "plt.title('Calciumpeaks_AD_Compartmental',fontsize = 22,fontweight='bold')\n",
    "plt.xticks(fontsize = 18,fontweight='bold')\n",
    "plt.yticks(fontsize = 18,fontweight='bold')\n",
    "plt.grid(axis='y', alpha=0.25)\n",
    "#plt.savefig('Capeaks_CM_AD250sec_repeatFinalFinal2.png')"
   ]
  },
  {
   "cell_type": "code",
   "execution_count": null,
   "metadata": {},
   "outputs": [],
   "source": [
    "import numpy\n",
    "from numpy import *\n",
    "#file1 = loadtxt('Ca_WT50sec_hIP3Final.dat')\n",
    "#file1 = loadtxt('Cac_AD250secRepeat2.dat')\n",
    "#file1 = loadtxt('Cac_AD250secRepeat_STFinal2.dat')\n",
    "#file1 = loadtxt('Cac_AD250secRepeat_CM_FinalFinal.dat')##final1 for compartmental\n",
    "#file1 = loadtxt('Cac_AD250secRepeat_STFinal.dat')\n",
    "file1 = loadtxt('Cac_WT2000sec_IPR30Compartmental3_05_24_22.dat')"
   ]
  },
  {
   "cell_type": "code",
   "execution_count": null,
   "metadata": {},
   "outputs": [],
   "source": [
    "#file1 = loadtxt('Cac_WT2000sec_IPR20Compartmental2_05_24_22.dat') ##final final data for wt-compartmental20IPR"
   ]
  },
  {
   "cell_type": "code",
   "execution_count": null,
   "metadata": {},
   "outputs": [],
   "source": [
    "file1"
   ]
  },
  {
   "cell_type": "code",
   "execution_count": null,
   "metadata": {},
   "outputs": [],
   "source": [
    "fig, ax = plt.subplots(figsize=(12,10))\n",
    "for axis in ['top', 'bottom', 'left', 'right']:\n",
    "    ax.spines[axis].set_linewidth(8.0)  # change width\n",
    "f1=file1[2500000:5000000,0]\n",
    "f2=file1[2500000:5000000,1]\n",
    "plt.plot(f1,f2,color='red')\n",
    "plt.xlabel('Time (Sec)',fontsize = 32,fontweight='bold')\n",
    "plt.ylabel('[Ca\\u00b2\\u207A]\\u1D62(µM)',fontsize = 32,fontweight='bold')\n",
    "#plt.title('Calciumpeaks_WT_Compartmental20IPR',fontsize = 32,fontweight='bold')\n",
    "plt.xticks(fontsize = 32,fontweight='bold')\n",
    "plt.yticks(fontsize = 30,fontweight='bold')\n",
    "\n",
    "#plt.grid(axis='y', alpha=0.25)"
   ]
  },
  {
   "cell_type": "code",
   "execution_count": null,
   "metadata": {},
   "outputs": [],
   "source": [
    "file1 = loadtxt('Cac_WT2000sec_IPR20Compartmental2_05_24_22.dat')##final wt-200sec-05_15_2023##finalfinal"
   ]
  },
  {
   "cell_type": "code",
   "execution_count": null,
   "metadata": {},
   "outputs": [],
   "source": [
    "fig, ax = plt.subplots(figsize=(12,10))\n",
    "for axis in ['top', 'bottom', 'left', 'right']:\n",
    "    ax.spines[axis].set_linewidth(8.0)  # change width\n",
    "f1=file1[866000:868000,0]\n",
    "f2=file1[866000:868000,1]\n",
    "plt.plot(f1,f2,color='red',linewidth=6.0)\n",
    "plt.xlabel('Time (S)',fontsize = 32,fontweight='bold')\n",
    "plt.ylabel('[Ca\\u00b2\\u207A]\\u1D62(µM)',fontsize = 32,fontweight='bold')\n",
    "#plt.title('Calciumpeaks_WT_Compartmental20IPR',fontsize = 32,fontweight='bold')\n",
    "plt.xticks(np.arange(86.6,86.8,0.1),fontsize = 32,fontweight='bold')\n",
    "plt.yticks(np.arange(0.05,0.3,0.05),fontsize = 30,fontweight='bold')\n"
   ]
  },
  {
   "cell_type": "code",
   "execution_count": null,
   "metadata": {},
   "outputs": [],
   "source": [
    "fig, ax = plt.subplots(figsize=(12,10))\n",
    "for axis in ['top', 'bottom', 'left', 'right']:\n",
    "    ax.spines[axis].set_linewidth(8.0)  # change width\n",
    "f1=file1[0:20000000,0]\n",
    "f2=file1[0:20000000,1]\n",
    "plt.plot(f1,f2,color='red')\n",
    "plt.xlabel('Time (S)',fontsize = 32,fontweight='bold')\n",
    "plt.ylabel('[Ca\\u00b2\\u207A]\\u1D62(µM)',fontsize = 32,fontweight='bold')\n",
    "#plt.title('Calciumpeaks_WT_Compartmental20IPR',fontsize = 32,fontweight='bold')\n",
    "plt.xticks(fontsize = 26,fontweight='bold')\n",
    "plt.yticks(fontsize = 32,fontweight='bold')"
   ]
  },
  {
   "cell_type": "code",
   "execution_count": null,
   "metadata": {},
   "outputs": [],
   "source": [
    "fig, ax = plt.subplots(figsize=(12,10))\n",
    "for axis in ['top', 'bottom', 'left', 'right']:\n",
    "    ax.spines[axis].set_linewidth(8.0)  # change width\n",
    "f1=file1[0:2000000,0]\n",
    "f2=file1[0:2000000,1]\n",
    "plt.plot(f1,f2,color='red')\n",
    "plt.xlabel('Time (S)',fontsize = 32,fontweight='bold')\n",
    "plt.ylabel('[Ca\\u00b2\\u207A]\\u1D62(µM)',fontsize = 32,fontweight='bold')\n",
    "#plt.title('Calciumpeaks_WT_Compartmental20IPR',fontsize = 32,fontweight='bold')\n",
    "plt.xticks(fontsize = 26,fontweight='bold')\n",
    "plt.yticks(fontsize = 32,fontweight='bold')"
   ]
  },
  {
   "cell_type": "code",
   "execution_count": null,
   "metadata": {},
   "outputs": [],
   "source": [
    "fig, ax = plt.subplots(figsize=(12,10))\n",
    "for axis in ['top', 'bottom', 'left', 'right']:\n",
    "    ax.spines[axis].set_linewidth(8.0)  # change width\n",
    "f1=file1[0:2500000,0]\n",
    "f2=file1[0:2500000,1]\n",
    "plt.plot(f1,f2,color='red')\n",
    "plt.xlabel('Time (Sec)',fontsize = 32,fontweight='bold')\n",
    "plt.ylabel('[Ca\\u00b2\\u207A]\\u1D62(µM)',fontsize = 32,fontweight='bold')\n",
    "#plt.title('Calciumpeaks_WT_Compartmental20IPR',fontsize = 32,fontweight='bold')\n",
    "plt.xticks(fontsize = 26,fontweight='bold')\n",
    "plt.yticks(fontsize = 32,fontweight='bold')"
   ]
  },
  {
   "cell_type": "code",
   "execution_count": null,
   "metadata": {},
   "outputs": [],
   "source": [
    "file1"
   ]
  },
  {
   "cell_type": "code",
   "execution_count": null,
   "metadata": {},
   "outputs": [],
   "source": []
  },
  {
   "cell_type": "code",
   "execution_count": null,
   "metadata": {},
   "outputs": [],
   "source": [
    "f1=file1[2500000:5000000,0]\n",
    "f2=file1[2500000:5000000,1]"
   ]
  },
  {
   "cell_type": "code",
   "execution_count": null,
   "metadata": {},
   "outputs": [],
   "source": []
  },
  {
   "cell_type": "code",
   "execution_count": null,
   "metadata": {},
   "outputs": [],
   "source": [
    "fig, ax = plt.subplots(figsize=(12,10))\n"
   ]
  },
  {
   "cell_type": "code",
   "execution_count": null,
   "metadata": {},
   "outputs": [],
   "source": [
    "fig, ax = plt.subplots(figsize=(12,10))\n",
    "for axis in ['top', 'bottom', 'left', 'right']:\n",
    "    ax.spines[axis].set_linewidth(8.0)  # change width\n",
    "f1=file1[866000:868000,0]\n",
    "f2=file1[866000:868000,1]\n",
    "plt.plot(f1,f2,color='red',linewidth=6.0)\n",
    "plt.xlabel('Time (Sec)',fontsize = 32,fontweight='bold')\n",
    "plt.ylabel('[Ca\\u00b2\\u207A]\\u1D62(µM)',fontsize = 32,fontweight='bold')\n",
    "#plt.title('Calciumpeaks_WT_Compartmental20IPR',fontsize = 32,fontweight='bold')\n",
    "plt.xticks(np.arange(86.6,86.8,0.1),fontsize = 32,fontweight='bold')\n",
    "plt.yticks(np.arange(0.056,86.8,0.1),fontsize = 30,fontweight='bold')\n"
   ]
  },
  {
   "cell_type": "code",
   "execution_count": null,
   "metadata": {},
   "outputs": [],
   "source": [
    "fig, ax = plt.subplots(figsize=(12,10))\n",
    "for axis in ['top', 'bottom', 'left', 'right']:\n",
    "    ax.spines[axis].set_linewidth(8.0)  # change width\n",
    "f1=file1[866000:868000,0]\n",
    "f2=file1[866000:868000,1]\n",
    "plt.plot(f1,f2,color='red',linewidth=6.0)\n",
    "plt.xlabel('Time (Sec)',fontsize = 32,fontweight='bold')\n",
    "plt.ylabel('[Ca\\u00b2\\u207A]\\u1D62(µM)',fontsize = 32,fontweight='bold')\n",
    "#plt.title('Calciumpeaks_WT_Compartmental20IPR',fontsize = 32,fontweight='bold')\n",
    "plt.xticks(np.arange(86.6,86.8,0.1),fontsize = 32,fontweight='bold')\n",
    "plt.yticks(np.arange(0.056,86.8,0.1)fontsize = 30,fontweight='bold')\n",
    "\n",
    "#plt.grid(axis='y', alpha=0.25)"
   ]
  },
  {
   "cell_type": "code",
   "execution_count": null,
   "metadata": {},
   "outputs": [],
   "source": [
    "fig, ax = plt.subplots(figsize=(12,10))\n",
    "for axis in ['top', 'bottom', 'left', 'right']:\n",
    "    ax.spines[axis].set_linewidth(8.0)  # change width\n",
    "f1=file1[0:2500000,0]\n",
    "f2=file1[0:2500000,1]\n",
    "plt.plot(f1,f2,color='red')\n",
    "plt.xlabel('Time (Sec)',fontsize = 32,fontweight='bold')\n",
    "plt.ylabel('[Ca\\u00b2\\u207A]\\u1D62(µM)',fontsize = 32,fontweight='bold')\n",
    "#plt.title('Calciumpeaks_WT_Compartmental20IPR',fontsize = 32,fontweight='bold')\n",
    "plt.xticks(fontsize = 26,fontweight='bold')\n",
    "plt.yticks(fontsize = 32,fontweight='bold')\n",
    "#plt.grid(axis='y', alpha=0.25)"
   ]
  },
  {
   "cell_type": "code",
   "execution_count": null,
   "metadata": {},
   "outputs": [],
   "source": [
    "fig, ax = plt.subplots(figsize=(12,10))\n",
    "for axis in ['top', 'bottom', 'left', 'right']:\n",
    "    ax.spines[axis].set_linewidth(8.0)  # change width\n",
    "f1=file1[0:20000000,0]\n",
    "f2=file1[0:20000000,1]\n",
    "plt.plot(f1,f2,color='red')\n",
    "plt.xlabel('Time (Sec)',fontsize = 32,fontweight='bold')\n",
    "plt.ylabel('[Ca\\u00b2\\u207A]\\u1D62(µM)',fontsize = 32,fontweight='bold')\n",
    "#plt.title('Calciumpeaks_WT_Compartmental20IPR',fontsize = 32,fontweight='bold')\n",
    "plt.xticks(fontsize = 26,fontweight='bold')\n",
    "plt.yticks(fontsize = 32,fontweight='bold')\n",
    "#plt.grid(axis='y', alpha=0.25)"
   ]
  },
  {
   "cell_type": "code",
   "execution_count": null,
   "metadata": {},
   "outputs": [],
   "source": [
    "fig, ax = plt.subplots(figsize=(12,10))\n",
    "for axis in ['top', 'bottom', 'left', 'right']:\n",
    "    ax.spines[axis].set_linewidth(8.0)  # change width\n",
    "f1=file1[0:20000000,0]\n",
    "f2=file1[0:20000000,1]\n",
    "plt.plot(f1,f2,color='red')\n",
    "plt.xlabel('Time (Sec)',fontsize = 32,fontweight='bold')\n",
    "plt.ylabel('[Ca\\u00b2\\u207A]\\u1D62(µM)',fontsize = 32,fontweight='bold')\n",
    "#plt.title('Calciumpeaks_WT_Compartmental20IPR',fontsize = 32,fontweight='bold')\n",
    "plt.xticks(fontsize = 26,fontweight='bold')\n",
    "plt.yticks(fontsize = 32,fontweight='bold')\n",
    "#plt.grid(axis='y', alpha=0.25)"
   ]
  },
  {
   "cell_type": "code",
   "execution_count": null,
   "metadata": {},
   "outputs": [],
   "source": []
  },
  {
   "cell_type": "code",
   "execution_count": null,
   "metadata": {},
   "outputs": [],
   "source": [
    "file1"
   ]
  },
  {
   "cell_type": "code",
   "execution_count": null,
   "metadata": {},
   "outputs": [],
   "source": [
    "fig, ax = plt.subplots(figsize=(12,10))\n",
    "for axis in ['top', 'bottom', 'left', 'right']:\n",
    "    ax.spines[axis].set_linewidth(8.0)  # change width\n",
    "f1=file1[0:2500000,0]\n",
    "f2=file1[0:2500000,1]\n",
    "plt.plot(f1,f2,color='red')\n",
    "plt.xlabel('Time (Sec)',fontsize = 32,fontweight='bold')\n",
    "plt.ylabel('[Ca\\u00b2\\u207A]\\u1D62(µM)',fontsize = 32,fontweight='bold')\n",
    "#plt.title('Calciumpeaks_WT_Compartmental20IPR',fontsize = 32,fontweight='bold')\n",
    "plt.xticks(fontsize = 26,fontweight='bold')\n",
    "plt.yticks(fontsize = 32,fontweight='bold')\n",
    "#plt.grid(axis='y', alpha=0.25)"
   ]
  },
  {
   "cell_type": "code",
   "execution_count": null,
   "metadata": {},
   "outputs": [],
   "source": []
  },
  {
   "cell_type": "code",
   "execution_count": null,
   "metadata": {},
   "outputs": [],
   "source": [
    "fig, ax = plt.subplots(figsize=(12,10))\n",
    "for axis in ['top', 'bottom', 'left', 'right']:\n",
    "    ax.spines[axis].set_linewidth(8.0)  # change width\n",
    "f1=file1[0:20000000,0]\n",
    "f2=file1[0:20000000,1]\n",
    "plt.plot(f1,f2,color='red')\n",
    "plt.xlabel('Time (Sec)',fontsize = 32,fontweight='bold')\n",
    "plt.ylabel('[Ca\\u00b2\\u207A]\\u1D62(µM)',fontsize = 32,fontweight='bold')\n",
    "#plt.title('Calciumpeaks_WT_Compartmental20IPR',fontsize = 32,fontweight='bold')\n",
    "plt.xticks(fontsize = 26,fontweight='bold')\n",
    "plt.yticks(fontsize = 32,fontweight='bold')\n",
    "plt.grid(axis='y', alpha=0.25)"
   ]
  },
  {
   "cell_type": "code",
   "execution_count": null,
   "metadata": {},
   "outputs": [],
   "source": []
  },
  {
   "cell_type": "code",
   "execution_count": null,
   "metadata": {},
   "outputs": [],
   "source": []
  },
  {
   "cell_type": "code",
   "execution_count": null,
   "metadata": {},
   "outputs": [],
   "source": []
  },
  {
   "cell_type": "code",
   "execution_count": null,
   "metadata": {},
   "outputs": [],
   "source": [
    "fig, ax = plt.subplots(figsize=(12,10))\n",
    "f1=file1[0:20000000,0]\n",
    "f2=file1[0:20000000,1]\n",
    "plt.plot(f1,f2,color='red')\n",
    "plt.xlabel('Time (Sec)',fontsize = 20,fontweight='bold')\n",
    "plt.ylabel('Calcium(µM)',fontsize = 20,fontweight='bold')\n",
    "plt.title('Calciumpeaks_WT_Compartmental20IPR',fontsize = 22,fontweight='bold')\n",
    "plt.xticks(fontsize = 18,fontweight='bold')\n",
    "plt.yticks(fontsize = 18,fontweight='bold')\n",
    "plt.grid(axis='y', alpha=0.25)"
   ]
  },
  {
   "cell_type": "code",
   "execution_count": null,
   "metadata": {},
   "outputs": [],
   "source": [
    "fig, ax = plt.subplots(figsize=(12,10))\n",
    "f1=file1[0:20000000,0]\n",
    "f2=file1[0:20000000,1]\n",
    "plt.plot(f1,f2,color='red')\n",
    "plt.xlabel('Time (Sec)',fontsize = 20,fontweight='bold')\n",
    "plt.ylabel('Calcium(µM)',fontsize = 20,fontweight='bold')\n",
    "plt.title('Calciumpeaks_WT_Compartmental30IPR',fontsize = 22,fontweight='bold')\n",
    "plt.xticks(fontsize = 18,fontweight='bold')\n",
    "plt.yticks(fontsize = 18,fontweight='bold')\n",
    "plt.grid(axis='y', alpha=0.25)"
   ]
  },
  {
   "cell_type": "code",
   "execution_count": null,
   "metadata": {},
   "outputs": [],
   "source": [
    " ##conversion of dat file to csv file (final)\n",
    "df2=pd.DataFrame(data=file1)\n",
    "with open('data_Cac_WT2000secCM30IP3R.csv', 'w') as f:\n",
    "                     (df2).to_csv(f, header=True)\n",
    "d1=pd.read_csv('data_Cac_WT2000secCM30IP3R.csv')\n",
    "d1=d1.drop(['Unnamed: 0'], axis=1)\n",
    "d1.columns=['Time','Calcium']\n",
    "d1\n",
    "df3=pd.DataFrame(data=d1)\n",
    "with open('data_Cac_WT2000secCM30IP3RFinal.csv', 'w') as f:\n",
    "                     (df3).to_csv(f, header=True,index=False)\n",
    "d2=pd.read_csv('data_Cac_WT2000secCM30IP3RFinal.csv')\n",
    "#d3=d2[0:2000000]\n",
    "#d3"
   ]
  },
  {
   "cell_type": "code",
   "execution_count": null,
   "metadata": {},
   "outputs": [],
   "source": [
    "d2=pd.read_csv('data_Cac_WT2000secCM30IP3RFinal.csv')"
   ]
  },
  {
   "cell_type": "code",
   "execution_count": null,
   "metadata": {},
   "outputs": [],
   "source": []
  },
  {
   "cell_type": "code",
   "execution_count": null,
   "metadata": {},
   "outputs": [],
   "source": [
    "d3=d2[17500000:20000000]"
   ]
  },
  {
   "cell_type": "code",
   "execution_count": null,
   "metadata": {},
   "outputs": [],
   "source": [
    "d3.iplot(x='Time',y='Calcium')"
   ]
  },
  {
   "cell_type": "code",
   "execution_count": null,
   "metadata": {},
   "outputs": [],
   "source": [
    " ##conversion of dat file to csv file (final)\n",
    "df2=pd.DataFrame(data=file1)\n",
    "with open('data_Cac_WT2000secCM30IP3R.csv', 'w') as f:\n",
    "                     (df2).to_csv(f, header=True)\n",
    "d1=pd.read_csv('data_Cac_WT2000secCM30IP3R.csv')\n",
    "d1=d1.drop(['Unnamed: 0'], axis=1)\n",
    "d1.columns=['Time','Calcium']\n",
    "d1\n",
    "df3=pd.DataFrame(data=d1)\n",
    "with open('data_Cac_WT2000secCM30IP3RFinal.csv', 'w') as f:\n",
    "                     (df3).to_csv(f, header=True,index=False)\n",
    "d2=pd.read_csv('data_Cac_WT2000secCM10IP3RFinal.csv')\n",
    "d3=d2[0:2000000]\n",
    "d3"
   ]
  },
  {
   "cell_type": "code",
   "execution_count": null,
   "metadata": {},
   "outputs": [],
   "source": [
    "fig, ax = plt.subplots(figsize=(12,10))\n",
    "f1=file1[0:20000000,0]\n",
    "f2=file1[0:20000000,1]\n",
    "plt.plot(f1,f2,color='red')\n",
    "plt.xlabel('Time (Sec)',fontsize = 20,fontweight='bold')\n",
    "plt.ylabel('Calcium(µM)',fontsize = 20,fontweight='bold')\n",
    "plt.title('Calciumpeaks_WT_Compartmental20IPR',fontsize = 22,fontweight='bold')\n",
    "plt.xticks(fontsize = 18,fontweight='bold')\n",
    "plt.yticks(fontsize = 18,fontweight='bold')\n",
    "plt.grid(axis='y', alpha=0.25)\n",
    "#plt.savefig('Capeaks_CM_AD250sec_repeatFinalFinal2.png')"
   ]
  },
  {
   "cell_type": "code",
   "execution_count": null,
   "metadata": {},
   "outputs": [],
   "source": [
    " ##conversion of dat file to csv file (final)\n",
    "df2=pd.DataFrame(data=file1)\n",
    "with open('data_Cac_WT2000secCM10IP3R.csv', 'w') as f:\n",
    "                     (df2).to_csv(f, header=True)\n",
    "d1=pd.read_csv('data_Cac_WT2000secCM10IP3R.csv')\n",
    "d1=d1.drop(['Unnamed: 0'], axis=1)\n",
    "d1.columns=['Time','Calcium']\n",
    "d1\n",
    "df3=pd.DataFrame(data=d1)\n",
    "with open('data_Cac_WT2000secCM10IP3RFinal.csv', 'w') as f:\n",
    "                     (df3).to_csv(f, header=True,index=False)\n",
    "d2=pd.read_csv('data_Cac_WT2000secCM10IP3RFinal.csv')\n",
    "d3=d2[0:2000000]\n",
    "d3"
   ]
  },
  {
   "cell_type": "code",
   "execution_count": null,
   "metadata": {},
   "outputs": [],
   "source": [
    "d3=d2[0:2000000]\n",
    "d3"
   ]
  },
  {
   "cell_type": "code",
   "execution_count": null,
   "metadata": {},
   "outputs": [],
   "source": [
    "d3.iplot(x='Time',y='Calcium')"
   ]
  },
  {
   "cell_type": "code",
   "execution_count": null,
   "metadata": {},
   "outputs": [],
   "source": [
    "d3=d2[17500000:20000000]\n",
    "d3"
   ]
  },
  {
   "cell_type": "code",
   "execution_count": null,
   "metadata": {},
   "outputs": [],
   "source": [
    "d3.iplot(x='Time',y='Calcium')"
   ]
  },
  {
   "cell_type": "code",
   "execution_count": null,
   "metadata": {},
   "outputs": [],
   "source": [
    "d2=pd.read_csv('data_Cac_AD250secRepeat_CM_FinalFinal.csv')"
   ]
  },
  {
   "cell_type": "code",
   "execution_count": null,
   "metadata": {},
   "outputs": [],
   "source": [
    "d2"
   ]
  },
  {
   "cell_type": "code",
   "execution_count": null,
   "metadata": {},
   "outputs": [],
   "source": [
    "d3=d2[1000000:2000000]\n",
    "d3"
   ]
  },
  {
   "cell_type": "code",
   "execution_count": null,
   "metadata": {},
   "outputs": [],
   "source": [
    "d3=d2[0:500000]\n",
    "d3"
   ]
  },
  {
   "cell_type": "code",
   "execution_count": null,
   "metadata": {},
   "outputs": [],
   "source": [
    "d3=d3[1000000:2000000]\n",
    "d3"
   ]
  },
  {
   "cell_type": "code",
   "execution_count": null,
   "metadata": {},
   "outputs": [],
   "source": [
    "d3.iplot(x='Time',y='Calcium')"
   ]
  },
  {
   "cell_type": "code",
   "execution_count": null,
   "metadata": {},
   "outputs": [],
   "source": [
    "file1"
   ]
  },
  {
   "cell_type": "code",
   "execution_count": null,
   "metadata": {},
   "outputs": [],
   "source": [
    "fig, ax = plt.subplots(figsize=(12,10))\n",
    "f1=file1[0:250000,0]\n",
    "f2=file1[0:250000,1]\n",
    "plt.plot(f1,f2)\n",
    "plt.xlabel('Time (Sec)')\n",
    "plt.ylabel('Calcium')\n",
    "plt.title('Calciumpeaks_AD_stochastic')\n",
    "#plt.savefig('Capeaks_ST_WT250sec.png')"
   ]
  },
  {
   "cell_type": "code",
   "execution_count": null,
   "metadata": {},
   "outputs": [],
   "source": [
    "import numpy\n",
    "from numpy import *\n",
    "#file2 = loadtxt('Cac_WT250sec_ST_repeatf5.dat')\n",
    "#file2 = loadtxt('Cac_WT250sec_ST_repeatf4.dat')\n",
    "#file2 = loadtxt('Cac_WT250sec_ST_repeatfinal5.dat')##final data for WT compartmental\n",
    "file2 = loadtxt('cac_wt250seccompartmental.dat')"
   ]
  },
  {
   "cell_type": "code",
   "execution_count": null,
   "metadata": {},
   "outputs": [],
   "source": [
    "fig, ax = plt.subplots(figsize=(10,8))\n",
    "f1=file2[0:2500000,0]\n",
    "f2=file2[0:2500000,1]\n",
    "plt.plot(f1,f2,color='red')\n",
    "plt.ylim(0,0.8)\n",
    "plt.xlabel('Time (Sec)',fontsize = 20,fontweight='bold')\n",
    "plt.ylabel('Calcium(µM)',fontsize = 20,fontweight='bold')\n",
    "plt.title('Calciumpeaks_WT_compartmental',fontsize = 22,fontweight='bold')\n",
    "plt.xticks(fontsize = 18,fontweight='bold')\n",
    "plt.yticks(fontsize = 18,fontweight='bold')\n",
    "plt.grid(axis='y', alpha=0.25)\n",
    "plt.savefig('Capeaks_compartmental_WT250sec_Final_02_10_2022.png')"
   ]
  },
  {
   "cell_type": "code",
   "execution_count": null,
   "metadata": {},
   "outputs": [],
   "source": [
    "df2=pd.DataFrame(data=file2)\n",
    "with open('data_Cac_WT250sec_ST_repeatfinal5.csv', 'w') as f:\n",
    "                     (df2).to_csv(f, header=True)\n",
    "d1=pd.read_csv('data_Cac_WT250sec_ST_repeatfinal5.csv')\n",
    "d1=d1.drop(['Unnamed: 0'], axis=1)\n",
    "d1.columns=['Time','Calcium']\n",
    "d1\n",
    "df3=pd.DataFrame(data=d1)\n",
    "with open('data_Cac_WT250sec_ST_repeatfinalfinal5.csv', 'w') as f:\n",
    "                     (df3).to_csv(f, header=True,index=False)\n",
    "d2=pd.read_csv('data_Cac_WT250sec_ST_repeatfinalfinal5.csv')\n",
    "d3=d1[0:1000000]"
   ]
  },
  {
   "cell_type": "code",
   "execution_count": null,
   "metadata": {},
   "outputs": [],
   "source": [
    "d3"
   ]
  },
  {
   "cell_type": "code",
   "execution_count": null,
   "metadata": {},
   "outputs": [],
   "source": [
    "d2=pd.read_csv('data_Cac_WT250sec_ST_repeatfinalfinal5.csv')"
   ]
  },
  {
   "cell_type": "code",
   "execution_count": null,
   "metadata": {},
   "outputs": [],
   "source": [
    "d3=d2[2000000:2500000]\n",
    "d3"
   ]
  },
  {
   "cell_type": "code",
   "execution_count": null,
   "metadata": {},
   "outputs": [],
   "source": [
    "d3.iplot(x='Time',y='Calcium')"
   ]
  },
  {
   "cell_type": "code",
   "execution_count": null,
   "metadata": {},
   "outputs": [],
   "source": [
    "fig, ax = plt.subplots(figsize=(12,10))\n",
    "f1=file2[0:2500000,0]\n",
    "f2=file2[0:2500000,1]\n",
    "plt.plot(f1,f2)\n",
    "plt.xlabel('Time (Sec)',fontsize=18)\n",
    "plt.ylabel('Calcium',fontsize=18)\n",
    "plt.xticks(fontsize=18)\n",
    "plt.yticks(fontsize =18)\n",
    "plt.title('Calciumpeaks_WT_compartmental*3')\n",
    "#plt.savefig('Capeaks_ST_WT250secRepeatFinal.png')"
   ]
  },
  {
   "cell_type": "code",
   "execution_count": null,
   "metadata": {},
   "outputs": [],
   "source": [
    "df2=pd.DataFrame(data=file1)\n",
    "with open('data_Ca_WT50sec_hIP3Final.csv', 'a') as f:\n",
    "                     (df2).to_csv(f, header=True)\n",
    "d1=pd.read_csv('data_Ca_WT50sec_hIP3Final.csv')\n",
    "d1=d1.drop(['Unnamed: 0'], axis=1)\n",
    "d1.columns=['Time','Calcium','Cac_NcNc']\n",
    "d1\n",
    "df3=pd.DataFrame(data=d1)\n",
    "with open('data_Ca_fixed_AD_250sec_Final.csv', 'a') as f:\n",
    "                     (df3).to_csv(f, header=True,index=False)\n",
    "d2=pd.read_csv('data_Ca_fixed_AD_250sec_Final.csv')\n",
    "d2=d1[0:2000000]"
   ]
  },
  {
   "cell_type": "code",
   "execution_count": null,
   "metadata": {},
   "outputs": [],
   "source": [
    "df2=pd.DataFrame(data=file1)"
   ]
  },
  {
   "cell_type": "code",
   "execution_count": null,
   "metadata": {},
   "outputs": [],
   "source": [
    "with open('data_Ca_WT50sec_hIP3Final.csv', 'a') as f:\n",
    "                     (df2).to_csv(f, header=True)\n",
    "\n"
   ]
  },
  {
   "cell_type": "code",
   "execution_count": null,
   "metadata": {},
   "outputs": [],
   "source": [
    "d1=pd.read_csv('data_Ca_WT50sec_hIP3Final.csv')"
   ]
  },
  {
   "cell_type": "code",
   "execution_count": null,
   "metadata": {},
   "outputs": [],
   "source": [
    "d1=d1.drop(['Unnamed: 0'], axis=1)"
   ]
  },
  {
   "cell_type": "code",
   "execution_count": null,
   "metadata": {},
   "outputs": [],
   "source": [
    "d1.columns=['Time','Calcium','Cac_NcNc']"
   ]
  },
  {
   "cell_type": "code",
   "execution_count": null,
   "metadata": {},
   "outputs": [],
   "source": [
    "d1"
   ]
  },
  {
   "cell_type": "code",
   "execution_count": null,
   "metadata": {},
   "outputs": [],
   "source": [
    "import pandas as pd\n",
    "import numpy as np\n",
    "from matplotlib import pyplot as plt\n",
    "from plotly import __version__\n",
    "import cufflinks as cf\n",
    "from plotly.offline import download_plotlyjs, init_notebook_mode, plot, iplot\n",
    "init_notebook_mode(connected=True)\n",
    "cf.go_offline()"
   ]
  },
  {
   "cell_type": "code",
   "execution_count": null,
   "metadata": {},
   "outputs": [],
   "source": [
    "d2=d1[0:2000000]"
   ]
  },
  {
   "cell_type": "code",
   "execution_count": null,
   "metadata": {
    "scrolled": true
   },
   "outputs": [],
   "source": [
    "d2.iplot(x='Time',y='Calcium')"
   ]
  },
  {
   "cell_type": "code",
   "execution_count": null,
   "metadata": {},
   "outputs": [],
   "source": [
    "import plotly.graph_objects as go\n",
    "fig = go.Figure()"
   ]
  },
  {
   "cell_type": "code",
   "execution_count": null,
   "metadata": {},
   "outputs": [],
   "source": [
    "#f2=f1[1:1000000]\n",
    "d1.iplot(x='Time',y='Calcium')"
   ]
  },
  {
   "cell_type": "code",
   "execution_count": null,
   "metadata": {},
   "outputs": [],
   "source": [
    "f2=file1[0:5000000,1]"
   ]
  },
  {
   "cell_type": "code",
   "execution_count": null,
   "metadata": {},
   "outputs": [],
   "source": [
    "file1"
   ]
  },
  {
   "cell_type": "code",
   "execution_count": null,
   "metadata": {},
   "outputs": [],
   "source": [
    "file2 = loadtxt('Ca_WT250secfixed_hIP3Final.dat')#Ca_wt_250secfixed_IP3.dat"
   ]
  },
  {
   "cell_type": "code",
   "execution_count": null,
   "metadata": {},
   "outputs": [],
   "source": [
    "#file2 = loadtxt('Ca_fixed_AD_50sec_hIP3final.dat')\n"
   ]
  },
  {
   "cell_type": "code",
   "execution_count": null,
   "metadata": {},
   "outputs": [],
   "source": [
    "#file1 = loadtxt('Ca_fixed_AD_50sec2_hIP3final.dat')\n",
    "file1 = loadtxt('Ca_fixed_AD_250sec_hIP3final.dat')"
   ]
  },
  {
   "cell_type": "code",
   "execution_count": null,
   "metadata": {},
   "outputs": [],
   "source": [
    "fig, ax = plt.subplots(figsize=(12,10))\n",
    "f1=file1[0:25000000,0]\n",
    "f2=file1[0:25000000,1]\n",
    "plt.plot(f1,f2,color='red')\n",
    "plt.ylim(0,1.2)\n",
    "plt.xlabel('Time (Sec)',fontsize = 20,fontweight='bold')\n",
    "plt.ylabel('Calcium(µM)',fontsize = 20,fontweight='bold')\n",
    "plt.title('Calciumpeaks_AD_Spatial',fontsize = 22,fontweight='bold')\n",
    "plt.xticks(fontsize = 18,fontweight='bold')\n",
    "plt.yticks(fontsize = 18,fontweight='bold')\n",
    "plt.grid(axis='y', alpha=0.25)\n",
    "plt.savefig('Capeaks_SP_AD250sec_Final2.png')"
   ]
  },
  {
   "cell_type": "code",
   "execution_count": null,
   "metadata": {},
   "outputs": [],
   "source": [
    "df2=pd.DataFrame(data=file1)"
   ]
  },
  {
   "cell_type": "code",
   "execution_count": null,
   "metadata": {},
   "outputs": [],
   "source": [
    "d1=pd.read_csv('data_Ca_WT50sec_hIP3Final.csv')"
   ]
  },
  {
   "cell_type": "code",
   "execution_count": null,
   "metadata": {},
   "outputs": [],
   "source": [
    "d1=d1.drop(['Unnamed: 0'], axis=1)"
   ]
  },
  {
   "cell_type": "code",
   "execution_count": null,
   "metadata": {},
   "outputs": [],
   "source": [
    "d1.columns=['Time','Calcium','Cac_NcNc']"
   ]
  },
  {
   "cell_type": "code",
   "execution_count": null,
   "metadata": {},
   "outputs": [],
   "source": []
  },
  {
   "cell_type": "code",
   "execution_count": null,
   "metadata": {},
   "outputs": [],
   "source": [
    "import numpy\n",
    "from numpy import *"
   ]
  },
  {
   "cell_type": "code",
   "execution_count": null,
   "metadata": {},
   "outputs": [],
   "source": [
    "#file1 = loadtxt('Ca_fixed_AD_250sec_hIP3Final.dat')"
   ]
  },
  {
   "cell_type": "code",
   "execution_count": null,
   "metadata": {},
   "outputs": [],
   "source": [
    "file1 = loadtxt('Ca_new_Ad_10sec_IP3.dat')"
   ]
  },
  {
   "cell_type": "code",
   "execution_count": null,
   "metadata": {},
   "outputs": [],
   "source": [
    "file1=file1[:,0]"
   ]
  },
  {
   "cell_type": "code",
   "execution_count": null,
   "metadata": {},
   "outputs": [],
   "source": [
    "file1.shape"
   ]
  },
  {
   "cell_type": "code",
   "execution_count": null,
   "metadata": {},
   "outputs": [],
   "source": [
    "len(file1)"
   ]
  },
  {
   "cell_type": "code",
   "execution_count": null,
   "metadata": {},
   "outputs": [],
   "source": [
    "df2=pd.DataFrame(data=file1)"
   ]
  },
  {
   "cell_type": "code",
   "execution_count": null,
   "metadata": {},
   "outputs": [],
   "source": [
    "with open('data_Ca_fixed_AD_250sec_hIP3Final.csv', 'a') as f:\n",
    "                     (df2).to_csv(f, header=True,index=False)"
   ]
  },
  {
   "cell_type": "code",
   "execution_count": null,
   "metadata": {},
   "outputs": [],
   "source": [
    "d1=pd.read_csv('data_Ca_fixed_AD_250sec_hIP3Final.csv')"
   ]
  },
  {
   "cell_type": "code",
   "execution_count": null,
   "metadata": {},
   "outputs": [],
   "source": [
    "d1"
   ]
  },
  {
   "cell_type": "code",
   "execution_count": null,
   "metadata": {},
   "outputs": [],
   "source": [
    "d1.columns=['Time','Calcium','Cac_NcNc']"
   ]
  },
  {
   "cell_type": "code",
   "execution_count": null,
   "metadata": {},
   "outputs": [],
   "source": [
    "d1"
   ]
  },
  {
   "cell_type": "code",
   "execution_count": null,
   "metadata": {},
   "outputs": [],
   "source": [
    "df3=pd.DataFrame(data=d1)"
   ]
  },
  {
   "cell_type": "code",
   "execution_count": null,
   "metadata": {},
   "outputs": [],
   "source": [
    "with open('data_Ca_fixed_AD_250sec_Final.csv', 'a') as f:\n",
    "                     (df3).to_csv(f, header=True,index=False)"
   ]
  },
  {
   "cell_type": "code",
   "execution_count": null,
   "metadata": {},
   "outputs": [],
   "source": [
    "d2=pd.read_csv('data_Ca_fixed_AD_250sec_Final.csv')"
   ]
  },
  {
   "cell_type": "code",
   "execution_count": null,
   "metadata": {},
   "outputs": [],
   "source": [
    "d2"
   ]
  },
  {
   "cell_type": "code",
   "execution_count": null,
   "metadata": {},
   "outputs": [],
   "source": [
    "import numpy\n",
    "from numpy import *"
   ]
  },
  {
   "cell_type": "code",
   "execution_count": null,
   "metadata": {},
   "outputs": [],
   "source": [
    "file2 = loadtxt('Ca_WT250secfixed_hIP3Final.dat')#Ca_wt_250secfixed_IP3.dat"
   ]
  },
  {
   "cell_type": "code",
   "execution_count": null,
   "metadata": {},
   "outputs": [],
   "source": [
    "df4=pd.DataFrame(data=file2)"
   ]
  },
  {
   "cell_type": "code",
   "execution_count": null,
   "metadata": {},
   "outputs": [],
   "source": [
    "with open('Ca_WT250secfixed_hIP3Final.csv', 'w') as f:\n",
    "                     (df4).to_csv(f, header=True,index=False)"
   ]
  },
  {
   "cell_type": "code",
   "execution_count": null,
   "metadata": {},
   "outputs": [],
   "source": [
    "d3=pd.read_csv('Ca_WT250secfixed_hIP3Final.csv')\n",
    "d3"
   ]
  },
  {
   "cell_type": "code",
   "execution_count": null,
   "metadata": {},
   "outputs": [],
   "source": [
    "d3.columns=['Time','Calcium','Cac_NcNc']"
   ]
  },
  {
   "cell_type": "code",
   "execution_count": null,
   "metadata": {},
   "outputs": [],
   "source": [
    "df5=pd.DataFrame(data=d1)\n",
    "with open('data_Ca_WT250secfixed_Final.csv', 'w') as f:\n",
    "                     (df5).to_csv(f, header=True,index=False)"
   ]
  },
  {
   "cell_type": "code",
   "execution_count": null,
   "metadata": {},
   "outputs": [],
   "source": [
    "d4=pd.read_csv('data_Ca_WT250secfixed_Final.csv')\n",
    "d4"
   ]
  },
  {
   "cell_type": "code",
   "execution_count": null,
   "metadata": {},
   "outputs": [],
   "source": [
    "data2=d4[0:5000000]"
   ]
  },
  {
   "cell_type": "code",
   "execution_count": null,
   "metadata": {},
   "outputs": [],
   "source": []
  },
  {
   "cell_type": "code",
   "execution_count": null,
   "metadata": {},
   "outputs": [],
   "source": [
    "len(file2)"
   ]
  },
  {
   "cell_type": "code",
   "execution_count": null,
   "metadata": {},
   "outputs": [],
   "source": [
    "file1 = loadtxt('Cac_AD250secfinal_10_29.dat')"
   ]
  },
  {
   "cell_type": "code",
   "execution_count": null,
   "metadata": {},
   "outputs": [],
   "source": [
    "# import csv\n",
    "\n",
    "# with open(\"Ca_WT50sec_hIP3Final.dat\") as infile, open(\"data50sec_sp.csv\", \"w\") as outfile:\n",
    "#     csv_writer = csv.writer(outfile)\n",
    "#     prev = ''\n",
    "#     csv_writer.writerow(['Time', 'Calcium'])\n",
    "#     for line in infile.read().splitlines():\n",
    "#         csv_writer.writerow([line, prev])\n",
    "#         prev = line"
   ]
  },
  {
   "cell_type": "code",
   "execution_count": null,
   "metadata": {},
   "outputs": [],
   "source": [
    "#d1=pd.read_csv('data50sec_sp.csv')"
   ]
  },
  {
   "cell_type": "code",
   "execution_count": null,
   "metadata": {},
   "outputs": [],
   "source": [
    "d1"
   ]
  },
  {
   "cell_type": "code",
   "execution_count": null,
   "metadata": {},
   "outputs": [],
   "source": [
    "\n",
    "#First of all DataFrame takes a list, so you need to do a proper list comprehension. Try the following:\n",
    "\n",
    "with open('Ca_WT50sec_hIP3Final.dat', 'r') as f:\n",
    "    df = pd.DataFrame([l.rstrip() for l in f.read().split()])"
   ]
  },
  {
   "cell_type": "code",
   "execution_count": null,
   "metadata": {},
   "outputs": [],
   "source": [
    "df"
   ]
  },
  {
   "cell_type": "code",
   "execution_count": null,
   "metadata": {},
   "outputs": [],
   "source": [
    "file3=pd.read_csv('ca_peakcountwhole_amp_width250sec.csv')\n",
    "file3"
   ]
  },
  {
   "cell_type": "code",
   "execution_count": null,
   "metadata": {},
   "outputs": [],
   "source": [
    "#Script for distribution plots\n",
    "\n",
    "import seaborn as sns\n",
    "import pandas as pd\n",
    "df1=pd.read_csv('ca_peakcountwhole_amp_width250sec.csv')\n",
    "width=sns.distplot(df1['width'], kde=False,bins=8)\n",
    "width.figure.savefig(\"peak.png\")\n"
   ]
  },
  {
   "cell_type": "code",
   "execution_count": null,
   "metadata": {},
   "outputs": [],
   "source": [
    "amp=sns.distplot(df1['peak_amplitude'],kde=False,bins=8,color='#FFAF33')\n",
    "\n",
    "amp.figure.savefig(\"peak_amplitude.png\")\n"
   ]
  },
  {
   "cell_type": "code",
   "execution_count": null,
   "metadata": {},
   "outputs": [],
   "source": [
    "import numpy\n",
    "from numpy import *\n",
    "#data = loadtxt('ca_gh1.dat')\n",
    "data = loadtxt('ca_para.dat')"
   ]
  },
  {
   "cell_type": "code",
   "execution_count": null,
   "metadata": {},
   "outputs": [],
   "source": [
    "len(data)"
   ]
  },
  {
   "cell_type": "code",
   "execution_count": null,
   "metadata": {},
   "outputs": [],
   "source": [
    "fig, ax = plt.subplots(figsize=(12,10))\n",
    "c1=data[0:1000000,0]\n",
    "c2=data[0:1000000,1]\n",
    "plt.plot(c1,c2)\n",
    "plt.xlabel('Time (Sec)')\n",
    "plt.ylabel('Calcium')\n",
    "plt.title('Calciumpeaks_para_stochastic')\n",
    "#plt.savefig('Capeaks_ST_AD250secFinal.png')"
   ]
  },
  {
   "cell_type": "code",
   "execution_count": null,
   "metadata": {},
   "outputs": [],
   "source": [
    "df=pd.DataFrame(data=data)\n",
    "\n",
    "with open('Ca_para.csv', 'w') as f:\n",
    "                     (df).to_csv(f, header=True,index=False)\n",
    "#with open('data_Ca_WT50sec_hIP3Final.csv', 'a') as f:\n",
    "                     #(df2).to_csv(f, header=True)\n",
    "c3=pd.read_csv('Ca_para.csv')\n",
    "c3\n",
    "c3.columns=['Time','Calcium']\n",
    "c3\n"
   ]
  },
  {
   "cell_type": "code",
   "execution_count": null,
   "metadata": {},
   "outputs": [],
   "source": [
    "df6=pd.DataFrame(data=c3)\n",
    "with open('Ca_paratest.csv', 'w') as f:\n",
    "                     (df6).to_csv(f, header=True,index=False)\n",
    "c=pd.read_csv('Ca_paratest.csv')\n",
    "c\n"
   ]
  },
  {
   "cell_type": "code",
   "execution_count": null,
   "metadata": {},
   "outputs": [],
   "source": [
    "c2 = c[0:100000]"
   ]
  },
  {
   "cell_type": "code",
   "execution_count": null,
   "metadata": {},
   "outputs": [],
   "source": [
    "c2.iplot(x='Time',y='Calcium')"
   ]
  },
  {
   "cell_type": "code",
   "execution_count": null,
   "metadata": {},
   "outputs": [],
   "source": [
    "# df=pd.DataFrame(data=data)\n",
    "\n",
    "# with open('Ca_gh1.csv', 'w') as f:\n",
    "#                      (df).to_csv(f, header=True,index=False)\n",
    "# #with open('data_Ca_WT50sec_hIP3Final.csv', 'a') as f:\n",
    "#                      #(df2).to_csv(f, header=True)\n",
    "# c3=pd.read_csv('Ca_gh1.csv')\n",
    "# c3\n",
    "# c3.columns=['Time','Calcium']\n",
    "# c3"
   ]
  },
  {
   "cell_type": "code",
   "execution_count": null,
   "metadata": {},
   "outputs": [],
   "source": [
    "c2 = c[0:100000]\n",
    "c2.iplot(x='Time',y='Calcium')"
   ]
  },
  {
   "cell_type": "code",
   "execution_count": null,
   "metadata": {},
   "outputs": [],
   "source": [
    "import numpy\n",
    "from numpy import *"
   ]
  },
  {
   "cell_type": "code",
   "execution_count": null,
   "metadata": {},
   "outputs": [],
   "source": [
    "d3=pd.read_csv('Widthlr_10sec.csv')"
   ]
  },
  {
   "cell_type": "code",
   "execution_count": null,
   "metadata": {},
   "outputs": [],
   "source": [
    "d3"
   ]
  },
  {
   "cell_type": "code",
   "execution_count": null,
   "metadata": {},
   "outputs": [],
   "source": [
    "plt.plot(d3['Count'],d3['Width'])"
   ]
  },
  {
   "cell_type": "code",
   "execution_count": null,
   "metadata": {},
   "outputs": [],
   "source": [
    "plt.bar(d3['Width'],d3['Count'])"
   ]
  },
  {
   "cell_type": "code",
   "execution_count": null,
   "metadata": {},
   "outputs": [],
   "source": []
  },
  {
   "cell_type": "code",
   "execution_count": null,
   "metadata": {},
   "outputs": [],
   "source": [
    "plt.hist(d3['Width'],color=\"gray\")"
   ]
  },
  {
   "cell_type": "code",
   "execution_count": null,
   "metadata": {},
   "outputs": [],
   "source": [
    "width=sns.distplot(d3['Width'], kde=False,bins=8,color= 'Gray')\n",
    "plt.ylabel('Counts')\n",
    "plt.title('histogram')\n",
    "width.figure.savefig(\"width.png\")"
   ]
  },
  {
   "cell_type": "code",
   "execution_count": null,
   "metadata": {},
   "outputs": [],
   "source": [
    "import matplotlib.pyplot as plt\n",
    "fig = plt.figure()\n",
    "ax = fig.add_axes([0,0,1,1])\n",
    "langs = [0.04724, 0.07863,0.0459,0.0759,0.06561,0.06644,0.04374, 0.05706,0.06308,0.05072]\n",
    "\n",
    "students = [1,2,3,4,5,6,7,8,9,10]\n",
    "ax.bar(langs,students)\n",
    "plt.show()"
   ]
  },
  {
   "cell_type": "code",
   "execution_count": null,
   "metadata": {},
   "outputs": [],
   "source": [
    "plt.plot(d3['Width'],d3['Count'])"
   ]
  },
  {
   "cell_type": "code",
   "execution_count": null,
   "metadata": {},
   "outputs": [],
   "source": [
    "d3.plot.hist(grid=True, bins=20, rwidth=0.9,\n",
    "                   color='#607c8e')\n",
    "plt.title('Commute Times for 1,000 Commuters')\n",
    "plt.xlabel('Counts')\n",
    "plt.ylabel('Commute Time')\n",
    "plt.grid(axis='y', alpha=0.75)"
   ]
  },
  {
   "cell_type": "code",
   "execution_count": null,
   "metadata": {},
   "outputs": [],
   "source": []
  },
  {
   "cell_type": "code",
   "execution_count": null,
   "metadata": {},
   "outputs": [],
   "source": [
    "data = loadtxt('widthlr.dat')"
   ]
  },
  {
   "cell_type": "code",
   "execution_count": null,
   "metadata": {},
   "outputs": [],
   "source": [
    "data"
   ]
  },
  {
   "cell_type": "code",
   "execution_count": null,
   "metadata": {},
   "outputs": [],
   "source": [
    "data= pd.Series(data[0:10,1])"
   ]
  },
  {
   "cell_type": "code",
   "execution_count": null,
   "metadata": {},
   "outputs": [],
   "source": [
    "data.plot.hist(data,grid=True, bins=20, rwidth=0.9,\n",
    "                   color='#607c8e')"
   ]
  },
  {
   "cell_type": "code",
   "execution_count": null,
   "metadata": {},
   "outputs": [],
   "source": [
    "plt.plot(data[0:10,0],data[0:10,1])"
   ]
  },
  {
   "cell_type": "code",
   "execution_count": null,
   "metadata": {},
   "outputs": [],
   "source": [
    "import seaborn as sns\n",
    "import pandas as pd"
   ]
  },
  {
   "cell_type": "code",
   "execution_count": null,
   "metadata": {},
   "outputs": [],
   "source": [
    "width=sns.distplot(data[0:10,1],kde=False,bins=8)"
   ]
  },
  {
   "cell_type": "code",
   "execution_count": null,
   "metadata": {},
   "outputs": [],
   "source": []
  },
  {
   "cell_type": "code",
   "execution_count": null,
   "metadata": {},
   "outputs": [],
   "source": [
    "size, scale = 1000, 10\n",
    "commutes = pd.Series(np.random.gamma(scale, size=size) ** 1.5)\n",
    "commutes\n",
    "\n",
    "commutes.plot.hist(grid=True, bins=20, rwidth=0.9,\n",
    "                   color='#607c8e')\n",
    "plt.title('Commute Times for 1,000 Commuters')\n",
    "plt.xlabel('Counts')\n",
    "plt.ylabel('Commute Time')\n",
    "plt.grid(axis='y', alpha=0.75)"
   ]
  },
  {
   "cell_type": "code",
   "execution_count": null,
   "metadata": {},
   "outputs": [],
   "source": [
    "commutes"
   ]
  },
  {
   "cell_type": "code",
   "execution_count": null,
   "metadata": {},
   "outputs": [],
   "source": [
    "import numpy\n",
    "from numpy import *\n",
    "file1 = loadtxt('widthlr250sec.dat')"
   ]
  },
  {
   "cell_type": "code",
   "execution_count": null,
   "metadata": {},
   "outputs": [],
   "source": [
    "file1"
   ]
  },
  {
   "cell_type": "code",
   "execution_count": null,
   "metadata": {},
   "outputs": [],
   "source": [
    "plt.title('Distribution of Width_peaks')\n",
    "plt.xlabel('Counts')\n",
    "plt.ylabel('Commute Time')\n",
    "plt.grid(axis='y', alpha=0.75)"
   ]
  },
  {
   "cell_type": "code",
   "execution_count": null,
   "metadata": {},
   "outputs": [],
   "source": [
    "file2 = loadtxt('widthlr250sec_WT.dat')"
   ]
  },
  {
   "cell_type": "code",
   "execution_count": null,
   "metadata": {},
   "outputs": [],
   "source": [
    "file2"
   ]
  },
  {
   "cell_type": "code",
   "execution_count": null,
   "metadata": {},
   "outputs": [],
   "source": [
    "data1 = loadtxt('widthlr_ST_AD.dat')"
   ]
  },
  {
   "cell_type": "code",
   "execution_count": null,
   "metadata": {},
   "outputs": [],
   "source": [
    "data1"
   ]
  },
  {
   "cell_type": "code",
   "execution_count": null,
   "metadata": {},
   "outputs": [],
   "source": [
    "len(data1)"
   ]
  },
  {
   "cell_type": "code",
   "execution_count": null,
   "metadata": {},
   "outputs": [],
   "source": [
    "data2 = loadtxt('widthlr250sec_ST_WT.dat')"
   ]
  },
  {
   "cell_type": "code",
   "execution_count": null,
   "metadata": {},
   "outputs": [],
   "source": [
    "len(data2)"
   ]
  },
  {
   "cell_type": "code",
   "execution_count": null,
   "metadata": {},
   "outputs": [],
   "source": [
    "fig, ax = plt.subplots(figsize=(10,8))\n",
    "width=sns.distplot(data2[0:27,1],kde=False,bins=8,color= 'darkgoldenrod')\n",
    "plt.title('Distribution of Width_peaks_WT',fontsize = 18)\n",
    "plt.xlabel('Width',fontsize = 18)\n",
    "plt.ylabel('Frequency of counts',fontsize = 18)\n",
    "plt.xticks(fontsize = 14)\n",
    "plt.yticks(fontsize = 14)\n",
    "plt.grid(axis='y', alpha=0.25)\n",
    "width.figure.savefig(\"Width_250sec_ST_WT.png\")\n",
    "plt.show"
   ]
  },
  {
   "cell_type": "code",
   "execution_count": null,
   "metadata": {},
   "outputs": [],
   "source": [
    "peak_data2 = loadtxt('peaklr_AD_SP.dat')"
   ]
  },
  {
   "cell_type": "code",
   "execution_count": null,
   "metadata": {},
   "outputs": [],
   "source": [
    "peak_data2"
   ]
  },
  {
   "cell_type": "code",
   "execution_count": null,
   "metadata": {},
   "outputs": [],
   "source": [
    "width_data1 = loadtxt('Widthlr250sec_SP_AD.dat')"
   ]
  },
  {
   "cell_type": "code",
   "execution_count": null,
   "metadata": {},
   "outputs": [],
   "source": [
    "width_data1"
   ]
  },
  {
   "cell_type": "code",
   "execution_count": null,
   "metadata": {},
   "outputs": [],
   "source": [
    "len(width_data1)"
   ]
  },
  {
   "cell_type": "code",
   "execution_count": null,
   "metadata": {},
   "outputs": [],
   "source": [
    "df2=pd.DataFrame(data=width_data1)\n",
    "with open('data_Widthlr250sec_SP_AD.csv', 'w') as f:\n",
    "                     (df2).to_csv(f, header=True)\n",
    "d1=pd.read_csv('data_Widthlr250sec_SP_AD.csv')\n",
    "d1=d1.drop(['Unnamed: 0'], axis=1)\n",
    "d1.columns=['Count','Width']\n",
    "d1\n",
    "df3=pd.DataFrame(data=d1)\n",
    "with open('data_Widthlr250sec_SP_ADfinal.csv', 'w') as f:\n",
    "                     (df3).to_csv(f, header=True,index=False)"
   ]
  },
  {
   "cell_type": "code",
   "execution_count": null,
   "metadata": {},
   "outputs": [],
   "source": [
    "data1=pd.read_csv('Width_AD_SP_msec.csv')"
   ]
  },
  {
   "cell_type": "code",
   "execution_count": null,
   "metadata": {},
   "outputs": [],
   "source": [
    "data1"
   ]
  },
  {
   "cell_type": "code",
   "execution_count": null,
   "metadata": {},
   "outputs": [],
   "source": [
    "fig, ax = plt.subplots(figsize=(10,8))\n",
    "width=sns.distplot(data1['Width'],kde=False,bins=8,color= 'darkgoldenrod')\n",
    "plt.title('Distribution of peaks_Width_AD_Spatial',fontweight = 'bold',fontsize = 22)\n",
    "plt.ylim(0,120)\n",
    "plt.xlim(0,145)\n",
    "plt.xlabel('Puff FDHM (ms)',fontweight = 'bold', fontsize = 22)\n",
    "plt.ylabel('Distribution of FDHM',fontweight = 'bold',fontsize = 18)\n",
    "plt.xticks(fontweight = 'bold',fontsize = 18)\n",
    "plt.yticks(fontweight = 'bold',fontsize = 18)\n",
    "plt.grid(axis='y', alpha=0.25)\n",
    "width.figure.savefig(\"Width_250sec_SP_ADfinal.png\")"
   ]
  },
  {
   "cell_type": "code",
   "execution_count": null,
   "metadata": {},
   "outputs": [],
   "source": [
    "len(peak_data2)"
   ]
  },
  {
   "cell_type": "code",
   "execution_count": null,
   "metadata": {},
   "outputs": [],
   "source": [
    "peak_data2"
   ]
  },
  {
   "cell_type": "code",
   "execution_count": null,
   "metadata": {},
   "outputs": [],
   "source": [
    "width_data2 = loadtxt('Widthlr250sec_SP_WT.dat')"
   ]
  },
  {
   "cell_type": "code",
   "execution_count": null,
   "metadata": {},
   "outputs": [],
   "source": [
    "len(width_data2)"
   ]
  },
  {
   "cell_type": "code",
   "execution_count": null,
   "metadata": {},
   "outputs": [],
   "source": [
    "df2=pd.DataFrame(data=width_data2)\n",
    "with open('data_Widthlr250sec_SP_WT.csv', 'w') as f:\n",
    "                     (df2).to_csv(f, header=True)\n",
    "d1=pd.read_csv('data_Widthlr250sec_SP_WT.csv')\n",
    "d1=d1.drop(['Unnamed: 0'], axis=1)\n",
    "d1.columns=['Count','Width']\n",
    "d1\n",
    "df3=pd.DataFrame(data=d1)\n",
    "with open('data_Widthlr250sec_SP_WTfinal.csv', 'w') as f:\n",
    "                     (df3).to_csv(f, header=True,index=False)"
   ]
  },
  {
   "cell_type": "code",
   "execution_count": null,
   "metadata": {},
   "outputs": [],
   "source": [
    "data3=pd.read_csv('Width_WT_SP_msec.csv')"
   ]
  },
  {
   "cell_type": "code",
   "execution_count": null,
   "metadata": {},
   "outputs": [],
   "source": [
    "len(data3)"
   ]
  },
  {
   "cell_type": "code",
   "execution_count": null,
   "metadata": {},
   "outputs": [],
   "source": [
    "data3"
   ]
  },
  {
   "cell_type": "code",
   "execution_count": null,
   "metadata": {},
   "outputs": [],
   "source": [
    "peak_data3 = loadtxt('peaklr_WT_SP.dat')"
   ]
  },
  {
   "cell_type": "code",
   "execution_count": null,
   "metadata": {},
   "outputs": [],
   "source": [
    "len(peak_data3)"
   ]
  },
  {
   "cell_type": "code",
   "execution_count": null,
   "metadata": {},
   "outputs": [],
   "source": [
    "fig, ax = plt.subplots(figsize=(10,8))\n",
    "width=sns.distplot(peak_data3[0:163,2],kde=False,bins=8,color= 'darkgoldenrod')\n",
    "plt.title('Distribution of peakamplitude_WT_Spatial',fontweight = 'bold',fontsize = 20)\n",
    "plt.ylim(0,100)\n",
    "plt.xlim(0,1.2)\n",
    "plt.xlabel('Puff Amplitude(µM)',fontweight = 'bold', fontsize = 22)\n",
    "plt.ylabel('Distribution of Amplitude',fontweight = 'bold',fontsize = 18)\n",
    "plt.xticks(fontweight = 'bold',fontsize = 18)\n",
    "plt.yticks(fontweight = 'bold',fontsize = 18)\n",
    "plt.grid(axis='y', alpha=0.25)\n",
    "width.figure.savefig(\"peaks_250sec_SP_WTFinal3.png\")"
   ]
  },
  {
   "cell_type": "code",
   "execution_count": null,
   "metadata": {},
   "outputs": [],
   "source": [
    "width_data3 = loadtxt('widthlr_250sec_AD_CMfinal2.dat')"
   ]
  },
  {
   "cell_type": "code",
   "execution_count": null,
   "metadata": {},
   "outputs": [],
   "source": [
    "width_data3\n"
   ]
  },
  {
   "cell_type": "code",
   "execution_count": null,
   "metadata": {},
   "outputs": [],
   "source": [
    "df2=pd.DataFrame(data=width_data3)\n",
    "with open('data_Widthlr250sec_CM_AD.csv', 'w') as f:\n",
    "                     (df2).to_csv(f, header=True)\n",
    "d1=pd.read_csv('data_Widthlr250sec_CM_AD.csv')\n",
    "d1=d1.drop(['Unnamed: 0'], axis=1)\n",
    "d1.columns=['Count','Width']\n",
    "d1\n",
    "df3=pd.DataFrame(data=d1)\n",
    "with open('data_Widthlr250sec_CM_ADfinal.csv', 'w') as f:\n",
    "                     (df3).to_csv(f, header=True,index=False)"
   ]
  },
  {
   "cell_type": "code",
   "execution_count": null,
   "metadata": {},
   "outputs": [],
   "source": [
    "peak_data4 = loadtxt('peaklr_CM_AD.dat')"
   ]
  },
  {
   "cell_type": "code",
   "execution_count": null,
   "metadata": {},
   "outputs": [],
   "source": [
    "peak_data4"
   ]
  },
  {
   "cell_type": "code",
   "execution_count": null,
   "metadata": {},
   "outputs": [],
   "source": [
    "len(peak_data4)"
   ]
  },
  {
   "cell_type": "code",
   "execution_count": null,
   "metadata": {},
   "outputs": [],
   "source": [
    "len(peak_data5)"
   ]
  },
  {
   "cell_type": "code",
   "execution_count": null,
   "metadata": {},
   "outputs": [],
   "source": [
    "fig, ax = plt.subplots(figsize=(10,8))\n",
    "width=sns.distplot(peak_data5[0:57,2],kde=False,bins=8,color= 'darkgoldenrod')\n",
    "plt.title('Distribution of peakamplitude_WT_Compartmental',fontweight = 'bold',fontsize = 20)\n",
    "plt.ylim(0,60)\n",
    "plt.xlim(0,1.6)\n",
    "plt.xlabel('Puff Amplitude(µM)',fontweight = 'bold', fontsize = 22)\n",
    "plt.ylabel('Distribution of Amplitude',fontweight = 'bold',fontsize = 18)\n",
    "plt.xticks(fontweight = 'bold',fontsize = 18)\n",
    "plt.yticks(fontweight = 'bold',fontsize = 18)\n",
    "plt.grid(axis='y', alpha=0.25)\n",
    "width.figure.savefig(\"Peaks_250sec_CM_WTFinal3.png\")"
   ]
  },
  {
   "cell_type": "code",
   "execution_count": null,
   "metadata": {},
   "outputs": [],
   "source": [
    "width_data4 = loadtxt('widthlr_250sec_WT_CMfinal2.dat')"
   ]
  },
  {
   "cell_type": "code",
   "execution_count": null,
   "metadata": {},
   "outputs": [],
   "source": [
    "width_data4"
   ]
  },
  {
   "cell_type": "code",
   "execution_count": null,
   "metadata": {},
   "outputs": [],
   "source": [
    "len(width_data4)"
   ]
  },
  {
   "cell_type": "code",
   "execution_count": null,
   "metadata": {},
   "outputs": [],
   "source": [
    "df2=pd.DataFrame(data=width_data4)\n",
    "with open('data_Widthlr250sec_CM_WT.csv', 'w') as f:\n",
    "                     (df2).to_csv(f, header=True)\n",
    "d1=pd.read_csv('data_Widthlr250sec_CM_WT.csv')\n",
    "d1=d1.drop(['Unnamed: 0'], axis=1)\n",
    "d1.columns=['Count','Width']\n",
    "d1\n",
    "df3=pd.DataFrame(data=d1)\n",
    "with open('data_Widthlr250sec_CM_WTfinal.csv', 'w') as f:\n",
    "                     (df3).to_csv(f, header=True,index=False)"
   ]
  },
  {
   "cell_type": "code",
   "execution_count": null,
   "metadata": {},
   "outputs": [],
   "source": [
    "data3=pd.read_csv('Width_AD_CM_msec.csv')"
   ]
  },
  {
   "cell_type": "code",
   "execution_count": null,
   "metadata": {},
   "outputs": [],
   "source": [
    "data3"
   ]
  },
  {
   "cell_type": "code",
   "execution_count": null,
   "metadata": {},
   "outputs": [],
   "source": [
    "data4=pd.read_csv('Width_WT_CM_msec.csv')"
   ]
  }
 ],
 "metadata": {
  "kernelspec": {
   "display_name": "Python 3",
   "language": "python",
   "name": "python3"
  },
  "language_info": {
   "codemirror_mode": {
    "name": "ipython",
    "version": 3
   },
   "file_extension": ".py",
   "mimetype": "text/x-python",
   "name": "python",
   "nbconvert_exporter": "python",
   "pygments_lexer": "ipython3",
   "version": "3.8.1"
  }
 },
 "nbformat": 4,
 "nbformat_minor": 4
}
